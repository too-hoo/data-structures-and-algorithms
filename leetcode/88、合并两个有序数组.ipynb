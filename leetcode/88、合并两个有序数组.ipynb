{
 "cells": [
  {
   "cell_type": "markdown",
   "metadata": {},
   "source": [
    "## 合并两个有序数组"
   ]
  },
  {
   "cell_type": "markdown",
   "metadata": {},
   "source": [
    "题目描述：\n",
    "给你两个有序数组num1和num2，请你将num2合并到num1中，使得num1成为一个有序数组\n",
    "\n",
    "**说明**\n",
    "- 初始化num1和num2的元素数量分别为m和n\n",
    "- 你可以假设num1有足够的空间（空间大小大于或者等于 m+n）来保存num2中的元素。"
   ]
  },
  {
   "cell_type": "markdown",
   "metadata": {},
   "source": [
    "**示例**\n",
    "\n",
    "**输入：**\n",
    "\n",
    "nums1 = [1,2,3,0,0,0], m = 3\n",
    "\n",
    "nums2 = [2,5,6],  n = 3\n",
    "\n",
    "**输出**\n",
    "\n",
    "[1,2,2,3,5,6]"
   ]
  },
  {
   "cell_type": "markdown",
   "metadata": {},
   "source": [
    "### 方法一：合并后排序\n",
    "**直觉**\n",
    "最朴素的解法就是将两个数组合并之后再排序。该算法只需要一行（java是两行），时间复杂度较差，为O((n+m)log(n+m))。这是由于这种方法没有利用两个数组本身已经有序这一个已知条件。\n"
   ]
  },
  {
   "cell_type": "markdown",
   "metadata": {},
   "source": [
    "java \n",
    "```java\n",
    "class Solution {\n",
    "    public void merge(int[] nums1, int m, int[] nums2, int n) {\n",
    "        System.arraycopy(nums2, 0, nums1, m, n);\n",
    "        Arrays.sort(nums1);\n",
    "    }\n",
    "}\n",
    "```\n",
    "\n",
    "python3\n",
    "```python\n",
    "class Solution:\n",
    "    def merge(self, nums1: List[int], m: int, nums2: List[int], n: int) -> None:\n",
    "        \"\"\"\n",
    "        Do not return anything, modify nums1 in-place instead.\n",
    "        \"\"\"\n",
    "        nums1[:] = sorted(nums1[:m] + nums2) # nums1截取完成之后直接拼接nums2，最后排序得到结果\n",
    "```"
   ]
  },
  {
   "cell_type": "markdown",
   "metadata": {},
   "source": [
    "**复杂度分析**\n",
    "- 时间复杂度：O((n+m)log(n+m))\n",
    "- 空间复杂度：O(1)"
   ]
  },
  {
   "cell_type": "markdown",
   "metadata": {},
   "source": [
    "### 方法二： 双指针/从前往后\n",
    "**直觉**\n",
    "\n",
    "一般而言，对于有序数组可以通过 '双指针法' 到达O(n+m)的时间复杂度。\n",
    "\n",
    "最直接的算法实现是将指针'p1' 置为 'nums1'的开头， 'p2' 为 'num2'的开头，在每一步将最小值放入输出数组中。\n",
    "\n",
    "由于 'nums1' 是用于输出的数组，需要将'nums1' 中的前'm'个元素放到其他地方，也就需要O(m)的空间复杂度。"
   ]
  },
  {
   "cell_type": "markdown",
   "metadata": {},
   "source": [
    "```java\n",
    "class Solution {\n",
    "    public void merge(int[] nums1, int m, int[] nums2, int n) {\n",
    "        // method1：\n",
    "        // System.arraycopy(nums2, 0, nums1, m, n);\n",
    "        // Arrays.sort(nums1);\n",
    "\n",
    "        // method2：\n",
    "        // Make a copy of nums1.\n",
    "        int [] nums1_copy = new int[m];\n",
    "        System.arraycopy(nums1, 0, nums1_copy, 0, m);\n",
    "\n",
    "        // Two get pointers for nums1_copy and num2.\n",
    "        int p1 = 0;\n",
    "        int p2 = 0;\n",
    "\n",
    "        // Set pointer for nums1\n",
    "        int p=0;\n",
    "\n",
    "        // Compare elements from nums1_copy and num2\n",
    "        // and add the smallest one into nums1\n",
    "        while ((p1 < m) && (p2 < n))\n",
    "            nums1[p++] = (nums1_copy[p1] < nums2[p2]) ? nums1_copy[p1++] : nums2[p2++];\n",
    "\n",
    "        // if there are still elements to add\n",
    "        if (p1 < m)\n",
    "            System.arraycopy(nums1_copy, p1, nums1, p1 + p2, m + n - p1 -p2);\n",
    "        if (p2 < n)\n",
    "            System.arraycopy(nums2, p2, nums1, p1 + p2, m + n - p1 -p2);\n",
    "    }\n",
    "}\n",
    "```\n",
    "\n",
    "\n",
    "python\n",
    "\n",
    "```python\n",
    "class Solution:\n",
    "    def merge(self, nums1: List[int], m: int, nums2: List[int], n: int) -> None:\n",
    "        \"\"\"\n",
    "        Do not return anything, modify nums1 in-place instead.\n",
    "        \"\"\"\n",
    "        # method 1:\n",
    "        # nums1[:] = sorted(nums1[:m] + nums2) # nums1截取完成之后直接拼接nums2，最后排序得到结果\n",
    "        \n",
    "        # method 2:\n",
    "        # Make a copy of nums1:\n",
    "        # Make a copy of nums1.\n",
    "        nums1_copy = nums1[:m] \n",
    "        nums1[:] = []\n",
    "\n",
    "        # Two get pointers for nums1_copy and nums2.\n",
    "        p1 = 0 \n",
    "        p2 = 0\n",
    "        \n",
    "        # Compare elements from nums1_copy and nums2\n",
    "        # and add the smallest one into nums1.\n",
    "        while p1 < m and p2 < n: \n",
    "            if nums1_copy[p1] < nums2[p2]: \n",
    "                nums1.append(nums1_copy[p1])\n",
    "                p1 += 1\n",
    "            else:\n",
    "                nums1.append(nums2[p2])\n",
    "                p2 += 1\n",
    "\n",
    "\n",
    "\n",
    "```\n",
    "**复杂度分析**\n",
    "\n",
    "- 时间复杂度：O(n + m)\n",
    "- 空间复杂度：O(m)"
   ]
  },
  {
   "cell_type": "code",
   "execution_count": null,
   "metadata": {},
   "outputs": [],
   "source": []
  },
  {
   "cell_type": "code",
   "execution_count": null,
   "metadata": {},
   "outputs": [],
   "source": []
  },
  {
   "cell_type": "code",
   "execution_count": null,
   "metadata": {},
   "outputs": [],
   "source": []
  },
  {
   "cell_type": "code",
   "execution_count": null,
   "metadata": {},
   "outputs": [],
   "source": []
  },
  {
   "cell_type": "code",
   "execution_count": null,
   "metadata": {},
   "outputs": [],
   "source": []
  }
 ],
 "metadata": {
  "kernelspec": {
   "display_name": "Python 3",
   "language": "python",
   "name": "python3"
  },
  "language_info": {
   "codemirror_mode": {
    "name": "ipython",
    "version": 3
   },
   "file_extension": ".py",
   "mimetype": "text/x-python",
   "name": "python",
   "nbconvert_exporter": "python",
   "pygments_lexer": "ipython3",
   "version": "3.6.9"
  }
 },
 "nbformat": 4,
 "nbformat_minor": 4
}
