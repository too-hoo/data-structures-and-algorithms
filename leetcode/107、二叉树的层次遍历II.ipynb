{
 "cells": [
  {
   "cell_type": "markdown",
   "metadata": {},
   "source": [
    "### 二叉树的层次遍历II"
   ]
  },
  {
   "cell_type": "markdown",
   "metadata": {},
   "source": [
    "给定一个二叉树，返回其节点值自底向上的层次遍历。（即按照从叶子节点所在的层到根节点所在的层，逐层从左向右遍历）"
   ]
  },
  {
   "cell_type": "code",
   "execution_count": null,
   "metadata": {},
   "outputs": [],
   "source": [
    "/**\n",
    " * Definition for a binary tree node.\n",
    " * struct TreeNode {\n",
    " *     int val;\n",
    " *     TreeNode *left;\n",
    " *     TreeNode *right;\n",
    " *     TreeNode(int x) : val(x), left(NULL), right(NULL) {}\n",
    " * };\n",
    " */\n",
    "class Solution {\n",
    "public:\n",
    "    vector<vector<int>> levelOrderBottom(TreeNode* root) {\n",
    "        vector<vector<int>>  res;  // 结果\n",
    "        if (root == NULL)\n",
    "            return res;\n",
    "        \n",
    "        queue<TreeNode*> q; // 定义一个队列，用来存放树\n",
    "        q.push(root);  // 先把整棵树方进去\n",
    "        while(!q.empty())  // 当队列不空的时候进入循环\n",
    "        {\n",
    "            vector<int> temp; // 临时变量\n",
    "            int len = q.size();  // 队列的长度，队列中树的个树\n",
    "            for(int i=0; i<len; i++)\n",
    "            {\n",
    "                TreeNode* now = q.front(); // 获取队列的第一个\n",
    "                q.pop();  // 队列弹出\n",
    "                temp.push_back(now->val);  // 临时变量保存第一棵树的根结点\n",
    "                if(now->left != NULL)  // 左子树非空\n",
    "                    q.push(now->left);\n",
    "                if(now->right != NULL)// 右子树非空\n",
    "                    q.push(now->right);\n",
    "            }\n",
    "            res.insert(res.begin(), temp); // 将临时变量保存到结果中（从前面插入）\n",
    "        }\n",
    "        return res;\n",
    "    }\n",
    "};"
   ]
  },
  {
   "cell_type": "code",
   "execution_count": null,
   "metadata": {},
   "outputs": [],
   "source": []
  },
  {
   "cell_type": "code",
   "execution_count": null,
   "metadata": {},
   "outputs": [],
   "source": []
  },
  {
   "cell_type": "code",
   "execution_count": null,
   "metadata": {},
   "outputs": [],
   "source": []
  },
  {
   "cell_type": "code",
   "execution_count": null,
   "metadata": {},
   "outputs": [],
   "source": []
  },
  {
   "cell_type": "code",
   "execution_count": null,
   "metadata": {},
   "outputs": [],
   "source": []
  },
  {
   "cell_type": "code",
   "execution_count": null,
   "metadata": {},
   "outputs": [],
   "source": []
  },
  {
   "cell_type": "code",
   "execution_count": null,
   "metadata": {},
   "outputs": [],
   "source": []
  },
  {
   "cell_type": "code",
   "execution_count": null,
   "metadata": {},
   "outputs": [],
   "source": []
  }
 ],
 "metadata": {
  "kernelspec": {
   "display_name": "Python 3",
   "language": "python",
   "name": "python3"
  },
  "language_info": {
   "codemirror_mode": {
    "name": "ipython",
    "version": 3
   },
   "file_extension": ".py",
   "mimetype": "text/x-python",
   "name": "python",
   "nbconvert_exporter": "python",
   "pygments_lexer": "ipython3",
   "version": "3.6.9"
  }
 },
 "nbformat": 4,
 "nbformat_minor": 4
}
