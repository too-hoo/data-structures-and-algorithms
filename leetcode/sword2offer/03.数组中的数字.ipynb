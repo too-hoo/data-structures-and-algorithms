{
 "cells": [
  {
   "cell_type": "markdown",
   "metadata": {
    "collapsed": true
   },
   "source": [
    "#  数组中的数字"
   ]
  },
  {
   "cell_type": "markdown",
   "metadata": {},
   "source": [
    "### 方法一：\n",
    "先排序，然后看一下相邻的元素是否有相同的，有就直接return。不过很慢，时间复杂度为O(nlogn),空间复杂度为O(1)\n"
   ]
  },
  {
   "cell_type": "markdown",
   "metadata": {},
   "source": [
    "class Solution:\n",
    "    def findRepeatNumber(self, nums: List[int]) -> int:\n",
    "        nums.sort()\n",
    "        pre = nums[0]\n",
    "        n = len(nums)\n",
    "        for index in range(1, n):\n",
    "            if pre == nums[index]:\n",
    "                return pre\n",
    "            pre = nums[index]"
   ]
  },
  {
   "cell_type": "code",
   "execution_count": null,
   "metadata": {},
   "outputs": [],
   "source": []
  }
 ],
 "metadata": {
  "kernelspec": {
   "display_name": "Python 3",
   "language": "python",
   "name": "python3"
  },
  "language_info": {
   "codemirror_mode": {
    "name": "ipython",
    "version": 3
   },
   "file_extension": ".py",
   "mimetype": "text/x-python",
   "name": "python",
   "nbconvert_exporter": "python",
   "pygments_lexer": "ipython3",
   "version": "3.6.9"
  }
 },
 "nbformat": 4,
 "nbformat_minor": 1
}
