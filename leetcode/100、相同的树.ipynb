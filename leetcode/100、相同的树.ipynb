{
 "cells": [
  {
   "cell_type": "markdown",
   "metadata": {},
   "source": [
    "### 前言\n",
    "\n",
    "两个二叉树相同，当且仅当两个二叉树的结构完全相同，且所有的对应的节点值相同。因此，可以通过搜索的方式判断连个二叉树是否相同。\n",
    "\n",
    "**方法一：深度优先搜索**\n",
    "\n",
    "如果两个二叉树都为空，则两个二叉树相同。如果两个二叉树中有且只有一个为空，则两个二叉树一定不相同。\n",
    "\n",
    "如果两个二叉树都不为空，那么首先判断他们的根结点的值是否相同，若不相同则两个二叉树一定不相同，若相同，再分别判断两个二叉树的左子树是否相同以及右子树是否相同。这一个是递归过程，因此可以使用深度优先搜索，递归的判断两个二叉树是否相同。\n"
   ]
  },
  {
   "cell_type": "code",
   "execution_count": null,
   "metadata": {},
   "outputs": [],
   "source": [
    "/**\n",
    " * Definition for a binary tree node.\n",
    " * public class TreeNode {\n",
    " *     int val;\n",
    " *     TreeNode left;\n",
    " *     TreeNode right;\n",
    " *     TreeNode() {}\n",
    " *     TreeNode(int val) { this.val = val; }\n",
    " *     TreeNode(int val, TreeNode left, TreeNode right) {\n",
    " *         this.val = val;\n",
    " *         this.left = left;\n",
    " *         this.right = right;\n",
    " *     }\n",
    " * }\n",
    " */\n",
    "class Solution {\n",
    "    public boolean isSameTree(TreeNode p, TreeNode q) {\n",
    "        if(p == null && q == null) {\n",
    "            return true;\n",
    "        } else if (p == null || q == null){\n",
    "            return false;\n",
    "        } else if (p.val != q.val) {\n",
    "            return false;\n",
    "        } else {\n",
    "            return isSameTree(p.left, q.left) && isSameTree(p.right, q.right);  // 递归调用\n",
    "        }\n",
    "\n",
    "    }\n",
    "}"
   ]
  },
  {
   "cell_type": "markdown",
   "metadata": {},
   "source": [
    "**复杂度分析**\n",
    "- 时间复杂度：O(min(m,n)), 其中m和n分别是两个二叉树的节点数。对两个二叉树同时进行深度优先搜索，只有当两个二叉树中的对应的节点都不为空的时候才会访问到该节点。因此被访问到的节点数不会超过较小的二叉树的节点数。\n",
    "\n",
    "- 空间复杂度：O(min(m,n)),其中m和n分别代表的是两个二叉树的节点数。空间复杂度取决于递归调用的层数，递归调用的层数不会超过较小的二叉树的最大高度，最坏情况下，二叉树的高度等于节点数。"
   ]
  },
  {
   "cell_type": "code",
   "execution_count": null,
   "metadata": {},
   "outputs": [],
   "source": []
  },
  {
   "cell_type": "code",
   "execution_count": null,
   "metadata": {},
   "outputs": [],
   "source": []
  },
  {
   "cell_type": "code",
   "execution_count": null,
   "metadata": {},
   "outputs": [],
   "source": []
  },
  {
   "cell_type": "code",
   "execution_count": null,
   "metadata": {},
   "outputs": [],
   "source": []
  },
  {
   "cell_type": "code",
   "execution_count": null,
   "metadata": {},
   "outputs": [],
   "source": []
  },
  {
   "cell_type": "code",
   "execution_count": null,
   "metadata": {},
   "outputs": [],
   "source": []
  }
 ],
 "metadata": {
  "kernelspec": {
   "display_name": "Python 3",
   "language": "python",
   "name": "python3"
  },
  "language_info": {
   "codemirror_mode": {
    "name": "ipython",
    "version": 3
   },
   "file_extension": ".py",
   "mimetype": "text/x-python",
   "name": "python",
   "nbconvert_exporter": "python",
   "pygments_lexer": "ipython3",
   "version": "3.6.9"
  }
 },
 "nbformat": 4,
 "nbformat_minor": 4
}
