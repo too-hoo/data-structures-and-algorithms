{
 "cells": [
  {
   "cell_type": "markdown",
   "metadata": {},
   "source": [
    "### 101、对称二叉树"
   ]
  },
  {
   "cell_type": "markdown",
   "metadata": {},
   "source": [
    "#### 方法一：递归\n",
    "**思路和算法**\n",
    "\n",
    "如果一个树的左子树和右子树镜像对称，那么这个树是对称的。\n",
    "\n",
    "因此，该问题可以转化为：两个树再什么情况下会互为镜像？\n",
    "\n",
    "如果同时满足下面的条件，两个树互为镜像：\n",
    "- 它们的两个根节点具有相同的值\n",
    "- 每个树的右子树都与另一个树的左子树镜像对称\n",
    "\n",
    "我们可以实现这样一个递归函数，通过【同步移动】两个指针的方法来遍历这科树，p指针和q指针一开始都是指向这棵树的根，随后p右移时，q左移，p左移时，q右移。每次检查当前p和q的节点的值是否相等，如果相等再判断左右子树是否对称。"
   ]
  },
  {
   "cell_type": "code",
   "execution_count": 1,
   "metadata": {},
   "outputs": [
    {
     "ename": "SyntaxError",
     "evalue": "invalid syntax (<ipython-input-1-e20f3c1c75c5>, line 1)",
     "output_type": "error",
     "traceback": [
      "\u001b[0;36m  File \u001b[0;32m\"<ipython-input-1-e20f3c1c75c5>\"\u001b[0;36m, line \u001b[0;32m1\u001b[0m\n\u001b[0;31m    **()\u001b[0m\n\u001b[0m     ^\u001b[0m\n\u001b[0;31mSyntaxError\u001b[0m\u001b[0;31m:\u001b[0m invalid syntax\n"
     ]
    }
   ],
   "source": [
    "/**\n",
    " * Definition for a binary tree node.\n",
    " * struct TreeNode {\n",
    " *     int val;\n",
    " *     TreeNode *left;\n",
    " *     TreeNode *right;\n",
    " *     TreeNode(int x) : val(x), left(NULL), right(NULL) {}\n",
    " * };\n",
    " */\n",
    "class Solution {\n",
    "public:\n",
    "    bool check(TreeNode *p, TreeNode *q){\n",
    "        if (!p && !q) return true;  // 都空的时候为true\n",
    "        if (!p || !q) return false;  // 有一个为空的时候false\n",
    "        return p->val == q->val && check(p->left, q->right) && check(p->right, q->left);\n",
    "    }\n",
    "\n",
    "    bool isSymmetric(TreeNode* root) {\n",
    "        return check(root, root);\n",
    "    }\n",
    "};\n"
   ]
  },
  {
   "cell_type": "markdown",
   "metadata": {},
   "source": [
    "#### 复杂度分析\n",
    "假设树上一共n个节点\n",
    "- 时间复杂度：这里遍历了这棵树，渐近时间复杂度为O(n).\n",
    "- 空间复杂度：这里的空间复杂度和递归使用的栈空间有关，这里的递归层数不超过n，所以渐近空间复杂度为O(n)。"
   ]
  },
  {
   "cell_type": "code",
   "execution_count": null,
   "metadata": {},
   "outputs": [],
   "source": []
  },
  {
   "cell_type": "code",
   "execution_count": null,
   "metadata": {},
   "outputs": [],
   "source": []
  },
  {
   "cell_type": "code",
   "execution_count": null,
   "metadata": {},
   "outputs": [],
   "source": []
  },
  {
   "cell_type": "code",
   "execution_count": null,
   "metadata": {},
   "outputs": [],
   "source": []
  },
  {
   "cell_type": "code",
   "execution_count": null,
   "metadata": {},
   "outputs": [],
   "source": []
  },
  {
   "cell_type": "code",
   "execution_count": null,
   "metadata": {},
   "outputs": [],
   "source": []
  }
 ],
 "metadata": {
  "kernelspec": {
   "display_name": "Python 3",
   "language": "python",
   "name": "python3"
  },
  "language_info": {
   "codemirror_mode": {
    "name": "ipython",
    "version": 3
   },
   "file_extension": ".py",
   "mimetype": "text/x-python",
   "name": "python",
   "nbconvert_exporter": "python",
   "pygments_lexer": "ipython3",
   "version": "3.6.9"
  }
 },
 "nbformat": 4,
 "nbformat_minor": 4
}
