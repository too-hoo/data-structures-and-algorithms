{
 "cells": [
  {
   "cell_type": "markdown",
   "metadata": {},
   "source": [
    "## 83、删除排序链表中的重复元素"
   ]
  },
  {
   "cell_type": "markdown",
   "metadata": {},
   "source": [
    "给定一个排序链表，删除所有重复的元素，使得每个元素只出现一次。"
   ]
  },
  {
   "cell_type": "markdown",
   "metadata": {},
   "source": [
    "示例1：\n",
    "输入：1->1->2\n",
    "输出：1->2"
   ]
  },
  {
   "cell_type": "markdown",
   "metadata": {},
   "source": [
    "示例2：\n",
    "输入：1->1->2->3->3\n",
    "输出：1->2->3"
   ]
  },
  {
   "cell_type": "markdown",
   "metadata": {},
   "source": [
    "### 思路：\n",
    "- 标签：链表\n",
    "- 指定cur指针指向头部 head\n",
    "- 当cur和cur.next的存在为循环结束条件，当二者有一个不存在的时候说明链表没有去重复的必要了\n",
    "- 当cur.val和cur.next.val 相等的时候说明需要去重，则将cur的下一个指针指向下一个的下一个，这样就能达到去重复的效果\n",
    "- 如果不相等则cur移动到下一个位置继续循环\n",
    "- 时间复杂度为O（n）\n"
   ]
  },
  {
   "cell_type": "markdown",
   "metadata": {},
   "source": [
    "### 代码"
   ]
  },
  {
   "cell_type": "markdown",
   "metadata": {},
   "source": [
    "/**\n",
    " * Definition for singly-linked list.\n",
    " * public class ListNode {\n",
    " *     int val;\n",
    " *     ListNode next;\n",
    " *     ListNode(int x) { val = x; }\n",
    " * }\n",
    " */\n",
    "class Solution {\n",
    "    public ListNode deleteDuplicates(ListNode head) {\n",
    "        // java描述\n",
    "        ListNode cur = head;\n",
    "        while(cur != null && cur.next != null){  // 两个都存在的时候才有继续查找下去去重的意义\n",
    "            if(cur.val == cur.next.val){ \n",
    "                cur.next = cur.next.next;\n",
    "            } else {\n",
    "                cur = cur.next;\n",
    "            }\n",
    "        }\n",
    "        return head;\n",
    "    }\n",
    "}"
   ]
  },
  {
   "cell_type": "code",
   "execution_count": null,
   "metadata": {},
   "outputs": [],
   "source": []
  },
  {
   "cell_type": "code",
   "execution_count": null,
   "metadata": {},
   "outputs": [],
   "source": []
  }
 ],
 "metadata": {
  "kernelspec": {
   "display_name": "Python 3",
   "language": "python",
   "name": "python3"
  },
  "language_info": {
   "codemirror_mode": {
    "name": "ipython",
    "version": 3
   },
   "file_extension": ".py",
   "mimetype": "text/x-python",
   "name": "python",
   "nbconvert_exporter": "python",
   "pygments_lexer": "ipython3",
   "version": "3.6.9"
  }
 },
 "nbformat": 4,
 "nbformat_minor": 2
}
