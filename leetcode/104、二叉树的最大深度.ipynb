{
 "cells": [
  {
   "cell_type": "markdown",
   "metadata": {},
   "source": [
    "### 方法一：递归\n",
    "**思路与算法**\n",
    "如果我们知道了左子树和右子树的最大深度l和r，那么该二叉树的最大深度就是\n",
    "\n",
    "**max(l,r) + 1**\n",
    "\n",
    "而左子树和右子树的最大深度又可以以同样的方式进行计算。因此我们在计算当前二叉树的最大深度的时候，可以先递归计算出其左子树和右子树的最大深度，然后在O(1)时间内计算出当前二叉树的最大深度。递归在访问到空节点的时候退出。"
   ]
  },
  {
   "cell_type": "code",
   "execution_count": null,
   "metadata": {},
   "outputs": [],
   "source": [
    "/**\n",
    " * Definition for a binary tree node.\n",
    " * struct TreeNode {\n",
    " *     int val;\n",
    " *     TreeNode *left;\n",
    " *     TreeNode *right;\n",
    " *     TreeNode(int x) : val(x), left(NULL), right(NULL) {}\n",
    " * };\n",
    " */\n",
    "class Solution {\n",
    "public:\n",
    "    int maxDepth(TreeNode* root) {\n",
    "        if (root == nullptr) return 0;\n",
    "        return max(maxDepth(root->left), maxDepth(root->right)) + 1;\n",
    "    }\n",
    "};\n"
   ]
  },
  {
   "cell_type": "markdown",
   "metadata": {},
   "source": [
    "**复杂度分析**\n",
    "- 时间复杂度：O(n), 其中n为二叉树节点的个树。每个节点在递归中只被遍历一次。\n",
    "- 空间复杂度：O(height), 其中height表示二叉树的高度。递归函数需要栈空间，而栈空间取决于递归的深度，因此空间复杂度等价于二叉树的高度"
   ]
  },
  {
   "cell_type": "markdown",
   "metadata": {},
   "source": [
    "### 方法二： 广度优先搜索\n",
    "**思路与算法**\n",
    "\n",
    "也可以使用【广度优先搜索】的方法来解决这道题目，但是我们需要对其进行一些修改，此时我们广度优先搜索的队列里面存放的是【当前层的所有节点】。每次拓展下一层的时候，不同于广度优先搜索每次只从队列里面拿出一个节点，我们需要将队列里面的所有节点都拿出来进行拓展，这样能保证每次拓展完成时候队列里面存放的是当前层的所有节点，即我们是一层层的进行拓展，最后我们用一个变量ans来维护拓展的次数，该二叉树的最大深度即为ans。\n"
   ]
  },
  {
   "cell_type": "code",
   "execution_count": null,
   "metadata": {},
   "outputs": [],
   "source": [
    "/**\n",
    " * Definition for a binary tree node.\n",
    " * struct TreeNode {\n",
    " *     int val;\n",
    " *     TreeNode *left;\n",
    " *     TreeNode *right;\n",
    " *     TreeNode(int x) : val(x), left(NULL), right(NULL) {}\n",
    " * };\n",
    " */\n",
    "class Solution {\n",
    "public:\n",
    "    int maxDepth(TreeNode* root) {\n",
    "        // method1：\n",
    "        // if (root == nullptr) return 0;\n",
    "        // return max(maxDepth(root->left), maxDepth(root->right)) + 1;\n",
    "\n",
    "        // method2\n",
    "        if (root == nullptr) return 0;\n",
    "        queue<TreeNode*> Q;\n",
    "        Q.push(root);\n",
    "        int ans = 0;\n",
    "        while (!Q.empty()) {\n",
    "            int sz = Q.size();  // 队列的大小\n",
    "            while (sz > 0) {\n",
    "                TreeNode* node = Q.front(); Q.pop();\n",
    "                if (node->left) Q.push(node->left);\n",
    "                if (node->right) Q.push(node->right);\n",
    "                sz -= 1;\n",
    "            }\n",
    "            ans += 1;  // 指的是拓展的次数\n",
    "        }\n",
    "        return ans;\n",
    "    }\n",
    "};"
   ]
  },
  {
   "cell_type": "markdown",
   "metadata": {},
   "source": [
    "**复杂度分析**\n",
    "- 时间复杂度： O(n), 其中n为二叉树的节点个数。与方法一同样的分析，每个节点只会被访问一次。\n",
    "- 空间复杂度：此方法空间的消耗取决于队列存储的元素数量，其在最坏的情况下会达到O(n)。"
   ]
  },
  {
   "cell_type": "code",
   "execution_count": null,
   "metadata": {},
   "outputs": [],
   "source": []
  },
  {
   "cell_type": "code",
   "execution_count": null,
   "metadata": {},
   "outputs": [],
   "source": []
  },
  {
   "cell_type": "code",
   "execution_count": null,
   "metadata": {},
   "outputs": [],
   "source": []
  }
 ],
 "metadata": {
  "kernelspec": {
   "display_name": "Python 3",
   "language": "python",
   "name": "python3"
  },
  "language_info": {
   "codemirror_mode": {
    "name": "ipython",
    "version": 3
   },
   "file_extension": ".py",
   "mimetype": "text/x-python",
   "name": "python",
   "nbconvert_exporter": "python",
   "pygments_lexer": "ipython3",
   "version": "3.6.9"
  }
 },
 "nbformat": 4,
 "nbformat_minor": 4
}
