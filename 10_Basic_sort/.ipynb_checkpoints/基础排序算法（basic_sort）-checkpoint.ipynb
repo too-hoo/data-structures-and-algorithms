{
 "cells": [
  {
   "cell_type": "markdown",
   "metadata": {},
   "source": [
    "# 基础排序算法（basic_sort）：冒泡，选择，插入，希尔"
   ]
  },
  {
   "cell_type": "markdown",
   "metadata": {},
   "source": [
    "## 1、冒泡算法：\n",
    "\n",
    "### 原理\n",
    "\n",
    "![](../Readmefile/849589-20171015223238449-2146169197.gif)\n",
    "\n",
    "- 从第一个元素开始比较相邻的元素。如果第一个比第二个大，就交换它们的位置；\n",
    "- 对每一对相邻的元素作同样的工作，从开始第一对到结尾的最后一对，这样在最后的元素应该会是最大的数；\n",
    "- 重复对不包括已经选出的最大的元素执行以上的步骤，直到排序完成。\n",
    "\n",
    "### 代码实现：\n",
    "重点在理解两层的迭代范围：\n",
    "- 第一层迭代比较轮数，每一轮都会选出当前轮的最大值，只剩下一个元素未排序时不需要再比较，因此是n-1次。\n",
    "- 第二层迭代为每一轮的比较的下标范围，比较从第一个值开始（下标0）并比较当前位置的值与下一位置的值，因此不会迭代到最后一个元素，所以次数为n-1，每一轮已经选出的最大值不再比较，因此最后的总次数为n-1-i。\n",
    "\n",
    "需要考虑的中间值：元素数量n"
   ]
  },
  {
   "cell_type": "code",
   "execution_count": 2,
   "metadata": {},
   "outputs": [],
   "source": [
    "import random\n",
    "\n",
    "def bubble_sort(seq):\n",
    "    n = len(seq)\n",
    "    for i in range(n - 1):\n",
    "        for j in range(n - 1 - i):  # 需要减去i是因为每一轮冒泡最大的元素都会冒泡到最后，无需再比较\n",
    "            if seq[j] > seq[j + 1]:\n",
    "                seq[j], seq[j + 1] = seq[j + 1], seq[j]\n",
    "\n",
    "\n",
    "def test_bubble_sort():\n",
    "    seq = list(range(10))\n",
    "    random.shuffle(seq)\n",
    "    bubble_sort(seq)\n",
    "    assert seq == sorted(seq)\n",
    "\n",
    "test_bubble_sort()"
   ]
  },
  {
   "cell_type": "markdown",
   "metadata": {},
   "source": [
    "### 算法分析\n",
    "不管初始序列中的元素如何分布，为了使大小为n的序列有序，将执行n-1轮排序，第一轮进行n-1次前后的比较，第二轮进行n-2次，以此类推，最后进行第n-1轮进行1次比较，因为总的次数为钱n-1个数之和，计算的结果为1/2n^2^-1/2n,即时间复杂度为O（n^2^）。\n",
    "\n",
    "最好与最差情况下元素交换的次数会有所区别。"
   ]
  },
  {
   "cell_type": "markdown",
   "metadata": {},
   "source": [
    "## 2、选择排序（selection_sorted）"
   ]
  },
  {
   "cell_type": "markdown",
   "metadata": {},
   "source": [
    "**原理**\n",
    "\n",
    "![](../Readmefile/849589-20171015224719590-1433219824.gif)\n",
    "\n",
    "1、将序列分为无序区间和有序区间，初始状态的无序区为[0,...,n-1],有序区间为空；\n",
    "\n",
    "2、第i轮排序（轮数从0开始）开始时，当前的有序区和无序区分别是[0...i]和[i...n-1]。该轮排序将第1个元素[i]假设为无序区的最小值，从第二个元素开始比较选出当前的无序区中的最小的元素[k],将它与无序区的第一个元素[i]交换，有序区增加一个元素，无序区较少一个元素；\n",
    "\n",
    "3、n-1轮之后，无序区还有一个最大的元素，此时整个序列已经有序，排序结束。\n",
    "\n",
    "**代码实现**\n",
    "\n",
    "重点理解两层的迭代的范围：\n",
    "\n",
    "- 第一层迭代为比较的轮数，每一轮都会选出一个当前轮最小值摆放到当前的下标，只剩下一个元素未排序时不需要再比较，因此为n-1次。\n",
    "- 第二层迭代为比较的下标范围，从当前的下标的下一个元素到序列的最后一个元素（下标为n-1）,因此范围为range(i+1,n).\n",
    "\n",
    "n个记录的选择排序可经过n-1轮选择排序得到有序的结果。\n",
    "\n",
    "如何寻找最值：假设当前的下标为最小下标，若有更小值，则以该值下标为最小下标。\n",
    "\n",
    "需要考虑的中间值：元素数量n和临时变量min_index。"
   ]
  },
  {
   "cell_type": "code",
   "execution_count": 3,
   "metadata": {},
   "outputs": [],
   "source": [
    "import random\n",
    "\n",
    "def selection_sort(seq):\n",
    "    n = len(seq)\n",
    "    for i in range(n - 1): \n",
    "        min_index = i  # 假设当前下标的元素是最小的(设置一个想元素)\n",
    "        for j in range(i + 1, n):  # 从i之后开始找到最小的元素，一直找到最后一个元素\n",
    "            if seq[j] < seq[min_index]:\n",
    "                min_index = j  # 循环结束后得到最小元素的下标\n",
    "        if min_index != i:  # 如果最小的元素不是当前下标的元素，则交换位置\n",
    "            seq[i], seq[min_index] = seq[min_index], seq[i]\n",
    "\n",
    "\n",
    "def test_selection_sort():\n",
    "    seq = list(range(10))\n",
    "    random.shuffle(seq)\n",
    "    selection_sort(seq)\n",
    "    assert seq == sorted(seq)\n",
    "\n",
    "test_selection_sort()"
   ]
  },
  {
   "cell_type": "markdown",
   "metadata": {},
   "source": [
    "**算法分析**\n",
    "\n",
    "比较次数与冒泡排序相同，无论是什么序列进行排序都是O(n^2^)的时间复杂度，不占用额外的内存空间。\n",
    "\n",
    "相比于冒泡排序，交换元素的次数会更少一些，因此性能更好。"
   ]
  },
  {
   "cell_type": "markdown",
   "metadata": {},
   "source": [
    "## 3、插入排序（insertion_sorted）"
   ]
  },
  {
   "cell_type": "markdown",
   "metadata": {},
   "source": [
    "**原理**\n",
    "\n",
    "![](../Readmefile/849589-20171015225645277-1151100000.gif)\n",
    "\n",
    "1、假定序列的第一个元素已经有序；\n",
    "\n",
    "2、取出下一个元素，在已经排序的元素序列中从后向前扫描。\n",
    "\n",
    "3、如果已经排序序列中的当前扫描元素大于新的元素，将该元素移动到下一位置。\n",
    "\n",
    "4、重复步骤3，直到找到已经排序的元素的小于或者等于新元素的位置。\n",
    "\n",
    "5、将新的元素插入到该位置之后；\n",
    "\n",
    "6、重复步骤2~5.\n",
    "\n",
    "**代码实现**\n",
    "\n",
    "第一层迭代的范围：进行比较的下标范围，从第二个值开始到最后一个值结束，因此为range(1,n)。\n",
    "\n",
    "如何取出值：将当前的位置的值赋值给临时变量value，最后在将value值放到往前比较的停止时的位置。\n",
    "\n",
    "如何通过while循环往前比较且在特定的条件停止：将前一个位置的值赋值到当前的比较位置，再通过自减将当前的比较位置往前移动。"
   ]
  },
  {
   "cell_type": "code",
   "execution_count": 5,
   "metadata": {},
   "outputs": [],
   "source": [
    "import random\n",
    "\n",
    "\n",
    "def insertion_sort(seq):\n",
    "    n = len(seq)\n",
    "    for i in range(1, n):  # 从第二个元素开始遍历\n",
    "        value = seq[i]  # 取出当前位置元素的值\n",
    "        pos = i  # 找到这个值的合适位置，使得前边的数组有序 [0,i] 有序\n",
    "        while pos > 0 and value < seq[pos - 1]:  # 比较取出值与前面的元素值，如果取出值跟小，继续前移\n",
    "            seq[pos] = seq[pos - 1]  # 将比较过的值往后移\n",
    "            pos -= 1  # 继续往前比较（前移取出值的位置）\n",
    "        seq[pos] = value  # 将取出的值插入到当前位置\n",
    "\n",
    "\n",
    "def test_insertion_sort():\n",
    "    seq = list(range(10))\n",
    "    random.shuffle(seq)\n",
    "    insertion_sort(seq)\n",
    "    assert seq == sorted(seq)\n",
    "\n",
    "test_insertion_sort()"
   ]
  },
  {
   "cell_type": "markdown",
   "metadata": {},
   "source": [
    "**算法分析**\n",
    "\n",
    "对于大小为n的序列依然需要进行n-1轮排序，每一轮的比较次数根据序列元素分布情况会有所区别，最大的比较次数下时间复杂度为O(n^2^),最好情况下每一轮只需要比较一次。\n",
    "\n",
    "插入排序在实现上，通常采用in-place原地排序（即只需用到O(1)的格外空间的排序），因而在中后向前的扫描过程中，需要反复的把已经排序元素逐步的向后挪位置，为最新的元素提供插入空间。"
   ]
  },
  {
   "cell_type": "markdown",
   "metadata": {},
   "source": [
    "## 4、希尔排序（shell_sorted）"
   ]
  },
  {
   "cell_type": "markdown",
   "metadata": {},
   "source": [
    "希尔排序时插入排序的改进版本，又叫做**缩小增量排序**。\n",
    "\n",
    "**原理**\n",
    "![](../Readmefile/849589-20180331170017421-364506073.gif)\n",
    "\n",
    "希尔排序时把序列按照下标的一定增量分组，对每一组使用直接插入的排序算法排序；随着增量的逐渐减少，每一组包含的元素会越来越少，当增量减少至1时，整个序列恰好被分成一组，此时再执行一个直接插入排序，算法便终止。\n",
    "\n",
    "**代码实现**"
   ]
  },
  {
   "cell_type": "code",
   "execution_count": 6,
   "metadata": {},
   "outputs": [],
   "source": [
    "def shell_sort(seq):\n",
    "    n = len(seq)\n",
    "    group = 2  # 每次将序列分成n/2^i个子序列（i从1开始递增）\n",
    "    gap = n // group  # 子序列数量，同时也是下标增量值\n",
    "    while gap > 0:  # 增量值最终递减到1\n",
    "        # 对每个子序列进行插入排序,共进行gap轮\n",
    "        for i in range(gap):\n",
    "            # 对当前序列进行插入排序，从当前序列的第二个元素即i+gap开始比较（初始元素下标为i）\n",
    "            for j in range(i + gap, n, gap):  # 以gap为step获取遍历序列\n",
    "                value = seq[j]\n",
    "                pos = j\n",
    "\n",
    "                while pos >= gap and value < seq[pos - gap]:  # pos-gap>=0,因此pos>=gap\n",
    "                    seq[pos] = seq[pos - gap]\n",
    "                    pos -= gap\n",
    "\n",
    "                seq[pos] = value\n",
    "        gap = gap // group\n",
    "\n",
    "\n",
    "def test_insertion_sort():\n",
    "    import random\n",
    "    seq = list(range(10))\n",
    "    random.shuffle(seq)\n",
    "    shell_sort(seq)\n",
    "    assert seq == sorted(seq)\n",
    "\n",
    "test_insertion_sort()"
   ]
  },
  {
   "cell_type": "markdown",
   "metadata": {},
   "source": [
    "**算法分析**\n",
    "\n",
    "尽管希尔排序是执行多次的插入排序，并在最后对所有元素的执行一次插入排序，但是实际上总的操作次数要好于插入的排序。\n",
    "\n",
    "希尔排序的具体的时间复杂度分析十分复杂，但是总的时间复杂度介于O(n)和O(n2)之间，核心在于间隔序列的设定。"
   ]
  },
  {
   "cell_type": "code",
   "execution_count": null,
   "metadata": {},
   "outputs": [],
   "source": []
  },
  {
   "cell_type": "code",
   "execution_count": null,
   "metadata": {},
   "outputs": [],
   "source": []
  },
  {
   "cell_type": "code",
   "execution_count": null,
   "metadata": {},
   "outputs": [],
   "source": []
  },
  {
   "cell_type": "code",
   "execution_count": null,
   "metadata": {},
   "outputs": [],
   "source": []
  },
  {
   "cell_type": "code",
   "execution_count": null,
   "metadata": {},
   "outputs": [],
   "source": []
  },
  {
   "cell_type": "code",
   "execution_count": null,
   "metadata": {},
   "outputs": [],
   "source": []
  },
  {
   "cell_type": "code",
   "execution_count": null,
   "metadata": {},
   "outputs": [],
   "source": []
  },
  {
   "cell_type": "code",
   "execution_count": null,
   "metadata": {},
   "outputs": [],
   "source": []
  },
  {
   "cell_type": "code",
   "execution_count": null,
   "metadata": {},
   "outputs": [],
   "source": []
  },
  {
   "cell_type": "code",
   "execution_count": null,
   "metadata": {},
   "outputs": [],
   "source": []
  },
  {
   "cell_type": "code",
   "execution_count": null,
   "metadata": {},
   "outputs": [],
   "source": []
  }
 ],
 "metadata": {
  "kernelspec": {
   "display_name": "Python 3",
   "language": "python",
   "name": "python3"
  },
  "language_info": {
   "codemirror_mode": {
    "name": "ipython",
    "version": 3
   },
   "file_extension": ".py",
   "mimetype": "text/x-python",
   "name": "python",
   "nbconvert_exporter": "python",
   "pygments_lexer": "ipython3",
   "version": "3.6.8"
  }
 },
 "nbformat": 4,
 "nbformat_minor": 2
}
