{
 "cells": [
  {
   "cell_type": "markdown",
   "metadata": {},
   "source": [
    "# 基础排序算法（basic_sort）：冒泡，选择，插入，希尔"
   ]
  },
  {
   "cell_type": "markdown",
   "metadata": {},
   "source": [
    "## 1、冒泡算法："
   ]
  },
  {
   "cell_type": "code",
   "execution_count": 2,
   "metadata": {},
   "outputs": [],
   "source": [
    "import random\n",
    "\n",
    "def bubble_sort(seq):\n",
    "    n = len(seq)\n",
    "    for i in range(n - 1):\n",
    "        for j in range(n - 1 - i):  # 需要减去i是因为每一轮冒泡最大的元素都会冒泡到最后，无需再比较\n",
    "            if seq[j] > seq[j + 1]:\n",
    "                seq[j], seq[j + 1] = seq[j + 1], seq[j]\n",
    "\n",
    "\n",
    "def test_bubble_sort():\n",
    "    seq = list(range(10))\n",
    "    random.shuffle(seq)\n",
    "    bubble_sort(seq)\n",
    "    assert seq == sorted(seq)\n",
    "\n",
    "test_bubble_sort()"
   ]
  },
  {
   "cell_type": "markdown",
   "metadata": {},
   "source": [
    "## 2、选择排序（selection_sorted）"
   ]
  },
  {
   "cell_type": "code",
   "execution_count": 3,
   "metadata": {},
   "outputs": [],
   "source": [
    "import random\n",
    "\n",
    "def selection_sort(seq):\n",
    "    n = len(seq)\n",
    "    for i in range(n - 1): \n",
    "        min_index = i  # 假设当前下标的元素是最小的(设置一个想元素)\n",
    "        for j in range(i + 1, n):  # 从i之后开始找到最小的元素，一直找到最后一个元素\n",
    "            if seq[j] < seq[min_index]:\n",
    "                min_index = j  # 循环结束后得到最小元素的下标\n",
    "        if min_index != i:  # 如果最小的元素不是当前下标的元素，则交换位置\n",
    "            seq[i], seq[min_index] = seq[min_index], seq[i]\n",
    "\n",
    "\n",
    "def test_selection_sort():\n",
    "    seq = list(range(10))\n",
    "    random.shuffle(seq)\n",
    "    selection_sort(seq)\n",
    "    assert seq == sorted(seq)\n",
    "\n",
    "test_selection_sort()"
   ]
  },
  {
   "cell_type": "markdown",
   "metadata": {},
   "source": [
    "## 3、插入排序（insertion_sorted）"
   ]
  },
  {
   "cell_type": "code",
   "execution_count": 5,
   "metadata": {},
   "outputs": [],
   "source": [
    "import random\n",
    "\n",
    "\n",
    "def insertion_sort(seq):\n",
    "    n = len(seq)\n",
    "    for i in range(1, n):  # 从第二个元素开始遍历\n",
    "        value = seq[i]  # 取出当前位置元素的值\n",
    "        pos = i  # 找到这个值的合适位置，使得前边的数组有序 [0,i] 有序\n",
    "        while pos > 0 and value < seq[pos - 1]:  # 比较取出值与前面的元素值，如果取出值跟小，继续前移\n",
    "            seq[pos] = seq[pos - 1]  # 将比较过的值往后移\n",
    "            pos -= 1  # 继续往前比较（前移取出值的位置）\n",
    "        seq[pos] = value  # 将取出的值插入到当前位置\n",
    "\n",
    "\n",
    "def test_insertion_sort():\n",
    "    seq = list(range(10))\n",
    "    random.shuffle(seq)\n",
    "    insertion_sort(seq)\n",
    "    assert seq == sorted(seq)\n",
    "\n",
    "test_insertion_sort()"
   ]
  },
  {
   "cell_type": "markdown",
   "metadata": {},
   "source": [
    "## 4、希尔排序（shell_sorted）"
   ]
  },
  {
   "cell_type": "code",
   "execution_count": 6,
   "metadata": {},
   "outputs": [],
   "source": [
    "def shell_sort(seq):\n",
    "    n = len(seq)\n",
    "    group = 2  # 每次将序列分成n/2^i个子序列（i从1开始递增）\n",
    "    gap = n // group  # 子序列数量，同时也是下标增量值\n",
    "    while gap > 0:  # 增量值最终递减到1\n",
    "        # 对每个子序列进行插入排序,共进行gap轮\n",
    "        for i in range(gap):\n",
    "            # 对当前序列进行插入排序，从当前序列的第二个元素即i+gap开始比较（初始元素下标为i）\n",
    "            for j in range(i + gap, n, gap):  # 以gap为step获取遍历序列\n",
    "                value = seq[j]\n",
    "                pos = j\n",
    "\n",
    "                while pos >= gap and value < seq[pos - gap]:  # pos-gap>=0,因此pos>=gap\n",
    "                    seq[pos] = seq[pos - gap]\n",
    "                    pos -= gap\n",
    "\n",
    "                seq[pos] = value\n",
    "        gap = gap // group\n",
    "\n",
    "\n",
    "def test_insertion_sort():\n",
    "    import random\n",
    "    seq = list(range(10))\n",
    "    random.shuffle(seq)\n",
    "    shell_sort(seq)\n",
    "    assert seq == sorted(seq)\n",
    "\n",
    "test_insertion_sort()"
   ]
  },
  {
   "cell_type": "code",
   "execution_count": null,
   "metadata": {},
   "outputs": [],
   "source": []
  },
  {
   "cell_type": "code",
   "execution_count": null,
   "metadata": {},
   "outputs": [],
   "source": []
  },
  {
   "cell_type": "code",
   "execution_count": null,
   "metadata": {},
   "outputs": [],
   "source": []
  },
  {
   "cell_type": "code",
   "execution_count": null,
   "metadata": {},
   "outputs": [],
   "source": []
  },
  {
   "cell_type": "code",
   "execution_count": null,
   "metadata": {},
   "outputs": [],
   "source": []
  },
  {
   "cell_type": "code",
   "execution_count": null,
   "metadata": {},
   "outputs": [],
   "source": []
  },
  {
   "cell_type": "code",
   "execution_count": null,
   "metadata": {},
   "outputs": [],
   "source": []
  },
  {
   "cell_type": "code",
   "execution_count": null,
   "metadata": {},
   "outputs": [],
   "source": []
  },
  {
   "cell_type": "code",
   "execution_count": null,
   "metadata": {},
   "outputs": [],
   "source": []
  },
  {
   "cell_type": "code",
   "execution_count": null,
   "metadata": {},
   "outputs": [],
   "source": []
  },
  {
   "cell_type": "code",
   "execution_count": null,
   "metadata": {},
   "outputs": [],
   "source": []
  }
 ],
 "metadata": {
  "kernelspec": {
   "display_name": "Python 3",
   "language": "python",
   "name": "python3"
  },
  "language_info": {
   "codemirror_mode": {
    "name": "ipython",
    "version": 3
   },
   "file_extension": ".py",
   "mimetype": "text/x-python",
   "name": "python",
   "nbconvert_exporter": "python",
   "pygments_lexer": "ipython3",
   "version": "3.6.8"
  }
 },
 "nbformat": 4,
 "nbformat_minor": 2
}
