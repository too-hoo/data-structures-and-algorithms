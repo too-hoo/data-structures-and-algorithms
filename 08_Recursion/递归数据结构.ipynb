{
 "cells": [
  {
   "cell_type": "markdown",
   "metadata": {},
   "source": [
    "# 递归的数据结构"
   ]
  },
  {
   "cell_type": "markdown",
   "metadata": {},
   "source": [
    "阶乘函数"
   ]
  },
  {
   "cell_type": "code",
   "execution_count": 1,
   "metadata": {},
   "outputs": [],
   "source": [
    "def fact(n):\n",
    "    if n == 0:\n",
    "        return 1\n",
    "    else:\n",
    "        return n * fact(n-1)"
   ]
  },
  {
   "cell_type": "markdown",
   "metadata": {},
   "source": [
    "特点：\n",
    "- 1、递归必须包含一个基本的出口（base case），否则就会无限递归，最终会导致栈溢出。比如这里的n == 0 返回1。\n",
    "- 2、递归必须包含一个可以分解的问题（recursive case）。想要求得fact(n),就需要使用n*fact(n-1).\n",
    "- 3、递归必须要向着递归出口靠近（toward the base case）。这里每次递归调用都会n-1，向着递归出口n==0靠近。"
   ]
  },
  {
   "cell_type": "markdown",
   "metadata": {},
   "source": [
    "## 使用栈模拟递归"
   ]
  },
  {
   "cell_type": "code",
   "execution_count": 5,
   "metadata": {},
   "outputs": [
    {
     "name": "stdout",
     "output_type": "stream",
     "text": [
      "1\n",
      "2\n",
      "3\n",
      "4\n",
      "5\n"
     ]
    }
   ],
   "source": [
    "from collections import deque # 使用collections的增强队列\n",
    "\n",
    "class Stack(object):\n",
    "    def __init__(self):\n",
    "        self._deque = deque()\n",
    "    \n",
    "    def push(self, value):\n",
    "        return self._deque.append(value)\n",
    "    \n",
    "    def pop(self):\n",
    "        return self._deque.pop()\n",
    "    \n",
    "    def is_empty(self):\n",
    "        return len(self._deque) == 0\n",
    "    \n",
    "def print_num_use_stack(n):\n",
    "    s = Stack()\n",
    "    while n > 0: # 不断将参数入栈\n",
    "        s.push(n)\n",
    "        n -= 1\n",
    "        \n",
    "    while not s.is_empty(): #参数弹出\n",
    "        print(s.pop())\n",
    "\n",
    "print_num_use_stack(5)"
   ]
  },
  {
   "cell_type": "markdown",
   "metadata": {},
   "source": [
    "## 尾递归\n",
    "调用递归放在函数的最后。\n",
    "\n",
    "函数调用会在内存形成一个“调用记录”，又称“调用帧”（call frame）, 保存调用位置和内部变量等信息。如果在函数A的内部调用函数B，那么在A的调用记录上方，还会形成一个B的调用记录。等到B运行结束，将结果返回到A，B的调用记录才会消失。如果函数B内部还调用函数C，那么就还有一个C的调用记录栈。以此类推。所有的调用记录，就形成一个“调用栈”（call stack）。\n",
    "\n",
    "尾调用由于是函数的最后一步操作，所以不需要保留外层函数的的调用记录，因为调用的位置、内部变量等信息都不会再用到了，只要直接用内层函数的调用记录，取代外层函数的调用记录就可以了。\n",
    "\n",
    "尾递归的实现，往往需要改写递归函数，确保最后一步只调用自身。做到这一点的方法，就是把所有的内部变量改写成为函数的参数。\n",
    "\n",
    "python默认不支持尾递归优化的（可参考相关资料），不过一般的尾递归我们可以使用一个迭代来优化它。"
   ]
  },
  {
   "cell_type": "markdown",
   "metadata": {},
   "source": [
    "## 1、扁平化数据_使用递归数据结构（flatten.py）"
   ]
  },
  {
   "cell_type": "code",
   "execution_count": 1,
   "metadata": {},
   "outputs": [],
   "source": [
    "# 实现一个 flatten 函数，把嵌套的列表扁平化，你需要用递归函数来实现。\n",
    "# 比如 [[1,2], [1,2,3] -> [1,2,1,2,3]\n",
    "\n",
    "def flatten(mylist):\n",
    "    '''将嵌套的列表扁平化：高维数降低维数'''\n",
    "    result = []\n",
    "    def nested(mylist):\n",
    "        for item in mylist:\n",
    "            # 判断列表中的项如果是list实例的话就递归调用，否则将单个数据加入到返回列表中\n",
    "            if isinstance(item, list):\n",
    "                # 递归调用扁平化函数\n",
    "                nested(item)\n",
    "            else:\n",
    "                result.append(item)\n",
    "    nested(mylist)\n",
    "    return result\n",
    "\n",
    "def test_flatten():\n",
    "    list01 = [1, 2, 3, 4]\n",
    "    assert flatten(list01) == [1, 2, 3, 4]\n",
    "    list02 = [1, [2, 3], 4]\n",
    "    assert flatten(list02) == [1, 2, 3, 4]\n",
    "    list03 = [1, [2, [3, 4]]]\n",
    "    assert flatten(list03) == [1, 2, 3, 4]\n",
    "    list04 = [1, [2, [3, [4]]]]\n",
    "    assert flatten(list04) == [1, 2, 3, 4]\n",
    "    \n",
    "test_flatten()"
   ]
  },
  {
   "cell_type": "markdown",
   "metadata": {},
   "source": [
    "## 2、递归实现汉诺塔（hanoi_tower.py）"
   ]
  },
  {
   "cell_type": "markdown",
   "metadata": {},
   "source": [
    "假设有A,B,C三个塔，A塔有N块盘，目标是将这些盘全部移动到C塔。那么先把A塔顶部的N-1块盘移动到B塔（借助C塔），再把A塔剩下的大盘移动到C，最后把B塔的N-1块盘移动到C（借助A塔）。\n",
    "\n",
    "实现的关键就是将问题的规模减小，使用三个盘片最容易理解，重点的是理解每一步盘片的移动过程（原塔，中间塔，目的塔）和关系"
   ]
  },
  {
   "cell_type": "code",
   "execution_count": 8,
   "metadata": {},
   "outputs": [
    {
     "name": "stdout",
     "output_type": "stream",
     "text": [
      "move A --> C\n",
      "move A --> B\n",
      "move C --> B\n",
      "move A --> C\n",
      "move B --> A\n",
      "move B --> C\n",
      "move A --> C\n"
     ]
    }
   ],
   "source": [
    "def move(n, source, dest, inter):\n",
    "    if n >= 1:\n",
    "        move(n-1, source, inter, dest)\n",
    "        print('move {} --> {}'.format(source, dest))\n",
    "        move(n-1, inter, dest, source)\n",
    "\n",
    "move(3, 'A', 'C', 'B')"
   ]
  },
  {
   "cell_type": "code",
   "execution_count": null,
   "metadata": {},
   "outputs": [],
   "source": []
  },
  {
   "cell_type": "code",
   "execution_count": null,
   "metadata": {},
   "outputs": [],
   "source": []
  },
  {
   "cell_type": "code",
   "execution_count": null,
   "metadata": {},
   "outputs": [],
   "source": []
  },
  {
   "cell_type": "code",
   "execution_count": null,
   "metadata": {},
   "outputs": [],
   "source": []
  },
  {
   "cell_type": "code",
   "execution_count": null,
   "metadata": {},
   "outputs": [],
   "source": []
  },
  {
   "cell_type": "code",
   "execution_count": null,
   "metadata": {},
   "outputs": [],
   "source": []
  },
  {
   "cell_type": "code",
   "execution_count": null,
   "metadata": {},
   "outputs": [],
   "source": []
  },
  {
   "cell_type": "code",
   "execution_count": null,
   "metadata": {},
   "outputs": [],
   "source": []
  },
  {
   "cell_type": "code",
   "execution_count": null,
   "metadata": {},
   "outputs": [],
   "source": []
  },
  {
   "cell_type": "code",
   "execution_count": null,
   "metadata": {},
   "outputs": [],
   "source": []
  },
  {
   "cell_type": "code",
   "execution_count": null,
   "metadata": {},
   "outputs": [],
   "source": []
  },
  {
   "cell_type": "code",
   "execution_count": null,
   "metadata": {},
   "outputs": [],
   "source": []
  },
  {
   "cell_type": "code",
   "execution_count": null,
   "metadata": {},
   "outputs": [],
   "source": []
  },
  {
   "cell_type": "code",
   "execution_count": null,
   "metadata": {},
   "outputs": [],
   "source": []
  }
 ],
 "metadata": {
  "kernelspec": {
   "display_name": "Python 3",
   "language": "python",
   "name": "python3"
  },
  "language_info": {
   "codemirror_mode": {
    "name": "ipython",
    "version": 3
   },
   "file_extension": ".py",
   "mimetype": "text/x-python",
   "name": "python",
   "nbconvert_exporter": "python",
   "pygments_lexer": "ipython3",
   "version": "3.6.8"
  }
 },
 "nbformat": 4,
 "nbformat_minor": 2
}
