{
 "cells": [
  {
   "cell_type": "markdown",
   "metadata": {},
   "source": [
    "# 递归的数据结构"
   ]
  },
  {
   "cell_type": "markdown",
   "metadata": {},
   "source": [
    "## 1、扁平化数据_使用递归数据结构（flatten.py）"
   ]
  },
  {
   "cell_type": "code",
   "execution_count": 1,
   "metadata": {},
   "outputs": [],
   "source": [
    "# 实现一个 flatten 函数，把嵌套的列表扁平化，你需要用递归函数来实现。\n",
    "# 比如 [[1,2], [1,2,3] -> [1,2,1,2,3]\n",
    "\n",
    "def flatten(mylist):\n",
    "    '''将嵌套的列表扁平化：高维数降低维数'''\n",
    "    result = []\n",
    "    def nested(mylist):\n",
    "        for item in mylist:\n",
    "            # 判断列表中的项如果是list实例的话就递归调用，否则将单个数据加入到返回列表中\n",
    "            if isinstance(item, list):\n",
    "                # 递归调用扁平化函数\n",
    "                nested(item)\n",
    "            else:\n",
    "                result.append(item)\n",
    "    nested(mylist)\n",
    "    return result\n",
    "\n",
    "def test_flatten():\n",
    "    list01 = [1, 2, 3, 4]\n",
    "    assert flatten(list01) == [1, 2, 3, 4]\n",
    "    list02 = [1, [2, 3], 4]\n",
    "    assert flatten(list02) == [1, 2, 3, 4]\n",
    "    list03 = [1, [2, [3, 4]]]\n",
    "    assert flatten(list03) == [1, 2, 3, 4]\n",
    "    list04 = [1, [2, [3, [4]]]]\n",
    "    assert flatten(list04) == [1, 2, 3, 4]\n",
    "    \n",
    "test_flatten()"
   ]
  },
  {
   "cell_type": "markdown",
   "metadata": {},
   "source": [
    "## 2、递归实现汉诺塔（hanoi_tower.py）"
   ]
  },
  {
   "cell_type": "markdown",
   "metadata": {},
   "source": [
    "实现的关键就是将问题的规模减小，使用三个盘片最容易理解，重点的是理解每一步盘片的移动过程（原塔，中间塔，目的塔）和关系"
   ]
  },
  {
   "cell_type": "code",
   "execution_count": 2,
   "metadata": {},
   "outputs": [
    {
     "name": "stdout",
     "output_type": "stream",
     "text": [
      "move A --> C\n",
      "move A --> B\n",
      "move C --> B\n",
      "move A --> C\n",
      "move B --> A\n",
      "move B --> C\n",
      "move A --> C\n"
     ]
    }
   ],
   "source": [
    "def move(n, source, dest, inter):\n",
    "    if n >= 1:\n",
    "        move(n-1, source, inter, dest)\n",
    "        print('move {} --> {}'.format(source, dest))\n",
    "        move(n-1, inter, dest, source)\n",
    "\n",
    "move(3, 'A', 'C', 'B')"
   ]
  },
  {
   "cell_type": "code",
   "execution_count": null,
   "metadata": {},
   "outputs": [],
   "source": []
  },
  {
   "cell_type": "code",
   "execution_count": null,
   "metadata": {},
   "outputs": [],
   "source": []
  },
  {
   "cell_type": "code",
   "execution_count": null,
   "metadata": {},
   "outputs": [],
   "source": []
  },
  {
   "cell_type": "code",
   "execution_count": null,
   "metadata": {},
   "outputs": [],
   "source": []
  },
  {
   "cell_type": "code",
   "execution_count": null,
   "metadata": {},
   "outputs": [],
   "source": []
  },
  {
   "cell_type": "code",
   "execution_count": null,
   "metadata": {},
   "outputs": [],
   "source": []
  },
  {
   "cell_type": "code",
   "execution_count": null,
   "metadata": {},
   "outputs": [],
   "source": []
  },
  {
   "cell_type": "code",
   "execution_count": null,
   "metadata": {},
   "outputs": [],
   "source": []
  },
  {
   "cell_type": "code",
   "execution_count": null,
   "metadata": {},
   "outputs": [],
   "source": []
  },
  {
   "cell_type": "code",
   "execution_count": null,
   "metadata": {},
   "outputs": [],
   "source": []
  },
  {
   "cell_type": "code",
   "execution_count": null,
   "metadata": {},
   "outputs": [],
   "source": []
  },
  {
   "cell_type": "code",
   "execution_count": null,
   "metadata": {},
   "outputs": [],
   "source": []
  },
  {
   "cell_type": "code",
   "execution_count": null,
   "metadata": {},
   "outputs": [],
   "source": []
  },
  {
   "cell_type": "code",
   "execution_count": null,
   "metadata": {},
   "outputs": [],
   "source": []
  }
 ],
 "metadata": {
  "kernelspec": {
   "display_name": "Python 3",
   "language": "python",
   "name": "python3"
  },
  "language_info": {
   "codemirror_mode": {
    "name": "ipython",
    "version": 3
   },
   "file_extension": ".py",
   "mimetype": "text/x-python",
   "name": "python",
   "nbconvert_exporter": "python",
   "pygments_lexer": "ipython3",
   "version": "3.6.8"
  }
 },
 "nbformat": 4,
 "nbformat_minor": 2
}
