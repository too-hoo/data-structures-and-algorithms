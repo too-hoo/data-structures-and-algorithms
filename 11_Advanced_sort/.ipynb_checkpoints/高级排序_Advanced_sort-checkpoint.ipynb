{
 "cells": [
  {
   "cell_type": "markdown",
   "metadata": {},
   "source": [
    "# 高级排序_Advanced_sort"
   ]
  },
  {
   "cell_type": "markdown",
   "metadata": {},
   "source": [
    "## 分治法\n",
    "分治法在每层递归时有三个步骤：\n",
    "- **分解** 原问题为若干个子问题，这些子问题是原问题的规模最小的实例\n",
    "- **解决** 这些子问题，递归的求解这些子问题。当子问题的规模足够小，就可以直接求解\n",
    "- **合并** 这些子问题的解成原问题的解\n"
   ]
  },
  {
   "cell_type": "markdown",
   "metadata": {},
   "source": [
    "## 1、归并排序\n",
    "**原理图解：**\n",
    "\n",
    "![](../Readmefile/849589-20171015230557043-37375010.gif)\n",
    "\n",
    "### 归并核心_分治(归并排序merge_sort)\n",
    "\n",
    "把数组递归成为只用单个的元素的数组，之后就不断的合并，最后得到一个有序的数组。这里的递归基本条件就是只包含一个元素的数组。\n",
    "- **分解：** 将待排序的n个元素分成各包含n/2个元素的子序列\n",
    "- **解决：** 使用归并排序递归排序连个子序列\n",
    "- **合并：** 将两个排序好的子序列合并成为一个最终的排序序列。\n",
    "\n",
    "**接着：**\n",
    "\n",
    "### 归并两个有序的数组（merge_two_part）\n",
    "\n",
    "分别在两个数组中设置连个迭代指针，循环的比较指针所指向的值并前移指针（while嵌套if...else结构）。\n",
    "\n",
    "创建一个新的列表用于存放两个列表比较时的较小值。\n",
    "\n",
    "注意循环终止后将没有迭代完的数组存入到列表中。"
   ]
  },
  {
   "cell_type": "code",
   "execution_count": 2,
   "metadata": {},
   "outputs": [
    {
     "name": "stdout",
     "output_type": "stream",
     "text": [
      "[0, 1, 2, 3, 4, 5, 6, 7, 8, 9]\n",
      "[0, 1, 2, 3, 4, 5, 6, 7, 8, 9]\n"
     ]
    }
   ],
   "source": [
    "import random\n",
    "\n",
    "\n",
    "def merge_sort(seq):\n",
    "    n = len(seq)\n",
    "    if n <= 1:\n",
    "        return seq\n",
    "    else:\n",
    "        mid = n // 2\n",
    "        # 递归的对左右部分进行分割排序\n",
    "        left_part = merge_sort(seq[:mid])\n",
    "        right_part = merge_sort(seq[mid:])\n",
    "\n",
    "        # 合并排序后的左右部分\n",
    "        new_seq = merge_two_part(left_part, right_part)\n",
    "        return new_seq\n",
    "\n",
    "\n",
    "# 归并两个有序数组\n",
    "def merge_two_part(sorted_a, sorted_b):\n",
    "    length_a = len(sorted_a)\n",
    "    length_b = len(sorted_b)\n",
    "    # 分别在两个数组中设置两个迭代指针，循环的比较指针所指向的值并前移指针（while嵌套if...else结构）\n",
    "    a = b = 0\n",
    "    # 创建一个新列表用于存放两个列表比较时的较小值\n",
    "    new_seq = list()\n",
    "\n",
    "    while a < length_a and b < length_b:\n",
    "        if sorted_a[a] < sorted_b[b]:\n",
    "            new_seq.append(sorted_a[a])\n",
    "            a += 1\n",
    "        else:\n",
    "            new_seq.append(sorted_b[b])\n",
    "            b += 1\n",
    "\n",
    "    # 注意循环终止后将没迭代完成的数组存入列表\n",
    "    if a < length_a:\n",
    "        new_seq.extend(sorted_a[a:])\n",
    "    else:\n",
    "        new_seq.extend(sorted_b[b:])\n",
    "\n",
    "    return new_seq\n",
    "\n",
    "\n",
    "def test_merge_sort():\n",
    "    seq = list(range(10))\n",
    "    random.shuffle(seq)\n",
    "    new_seq = merge_sort(seq)\n",
    "    print(new_seq)\n",
    "    print(sorted(seq))\n",
    "    assert new_seq == sorted(seq)\n",
    "    \n",
    "test_merge_sort()"
   ]
  },
  {
   "cell_type": "markdown",
   "metadata": {},
   "source": [
    "### **算法分析：**\n",
    "类似快速排序，但是需要额外的空间。因为每次都是序列中间进行分割，通过logn次可以将序列分割完毕，合并时需要遍历序列所有元素，不管元素在什么情况下都要做这些步骤，所花销的时间是不变的，因此该算法的最优、最差以及平均时间复杂度都为O(n*logn)\n",
    "\n",
    "归并的空间复杂度就是那个临时的数组和递归时压入栈的数据占用的空间：n + logn；所以空间复杂度为：O(n)."
   ]
  },
  {
   "cell_type": "markdown",
   "metadata": {},
   "source": [
    "## 2、快速排序\n",
    "\n",
    "**图示：**\n",
    "\n",
    "![](../Readmefile/849589-20171015230936371-1413523412.gif)\n",
    "\n",
    "快速排序算法在平均情况下表现最优。\n",
    "\n",
    "步骤：\n",
    "- 选择基准值pivot将数组分成两个子数组：小于基准值的元素和大于基准值的元素。这个过程称之为partition。\n",
    "- 对这两个子数组进行快速排序。\n",
    "- 返回基准值和子数组的合并结果。"
   ]
  },
  {
   "cell_type": "markdown",
   "metadata": {},
   "source": [
    "### 基础的版本"
   ]
  },
  {
   "cell_type": "code",
   "execution_count": 4,
   "metadata": {},
   "outputs": [],
   "source": [
    "import random\n",
    "\n",
    "\n",
    "def quicksort(array):\n",
    "    if len(array) < 2:  # 递归出口，空数组或者只有一个元素的数组都是有序的\n",
    "        return array\n",
    "    else:\n",
    "        pivot = array[0]\n",
    "        less_part = [i for i in array[1:] if i < pivot]\n",
    "        great_part = [i for i in array[1:] if i >= pivot]\n",
    "        return quicksort(less_part) + [pivot] + quicksort(great_part)\n",
    "\n",
    "\n",
    "def test_quicksort():\n",
    "    seq = list(range(10))\n",
    "    random.shuffle(seq)\n",
    "    sorted_seq = sorted(seq)\n",
    "    quicksorted_seq = quicksort(seq)\n",
    "    assert sorted_seq == quicksorted_seq\n",
    "    \n",
    "test_quicksort()"
   ]
  },
  {
   "cell_type": "markdown",
   "metadata": {},
   "source": [
    "基础版本的缺点：\n",
    "- 需要额外的存储空间，最好可以inplace原地排序。\n",
    "- partition操作每次都要两次遍历整个数组。"
   ]
  },
  {
   "cell_type": "markdown",
   "metadata": {},
   "source": [
    "### 改良版本\n",
    "- 从数列中挑出一个元素，称之为“基准”(pivot),\n",
    "- 重新排序数列，所有的元素比基准值小的摆放到基准前面，所有的元素比基准值大的摆放到基准值的后面（相同的数可以到任何的一边）。在这个分区退出之后，该基准值就处于数列的中间位置。这个称为分区（partition操作）；\n",
    "- 递归地（recursing）把小于基准值元素的子数列和大于基准值元素的子数列排序。"
   ]
  },
  {
   "cell_type": "code",
   "execution_count": null,
   "metadata": {},
   "outputs": [],
   "source": [
    "def quicksort_inplace(array, beg, end):  # 注意这里我们都用左闭右开区间，end 传入 len(array)\n",
    "    if beg < end - 1:\n",
    "        pivot = partition(array, beg, end)\n",
    "        quicksort_inplace(array, beg, pivot)\n",
    "        quicksort_inplace(array, pivot + 1, end)"
   ]
  },
  {
   "cell_type": "markdown",
   "metadata": {},
   "source": [
    "注意其执行条件，当执行快排的序列元素个数小于或者等于1时，序列已经是有序的，不需要再进行递归的快排操作。当程序递归执行到所有待执行快排的子序列都已经有序的时候，整个序列也是有序的了，程序执行完毕退出。\n",
    "\n",
    "**Partition操作**\n",
    "\n",
    "while True 无限循环，通过比较左右指针决定break结束循环还是交换指针所在的位置的值。\n",
    "\n",
    "![](../Readmefile/partitionA.png)\n",
    "\n",
    "**Partition图示**\n",
    "\n",
    "**注意递归执行快排的序列不再是包括前一次partition的操作的pivot值**\n",
    "\n",
    "![](../Readmefile/partitionB.png)"
   ]
  },
  {
   "cell_type": "code",
   "execution_count": 6,
   "metadata": {},
   "outputs": [],
   "source": [
    "import random\n",
    "\n",
    "\n",
    "def quicksort_inplace(array, beg, end):  # 注意这里我们都用左闭右开区间，end 传入 len(array)\n",
    "    # If the length of the list is less than or equal to one, it is already sorted.\n",
    "    # If it is greater, then it can be partitioned and recursively sorted.\n",
    "    if beg < end - 1:  # 当序列元素小于或等于1时，序列已经是有序的，不需要再继续进行递归的快排操作（原地进行）\n",
    "        pivot = partition(array, beg, end)\n",
    "        quicksort_inplace(array, beg, pivot)\n",
    "        quicksort_inplace(array, pivot + 1, end)\n",
    "\n",
    "\n",
    "def partition(array, beg, end):\n",
    "    pivot_index = beg\n",
    "    pivot = array[pivot_index]\n",
    "    left = pivot_index + 1\n",
    "    right = end - 1  # 开区间，最后一个元素位置是 end-1     [0, end-1] or [0: end)，括号表示开区间\n",
    "\n",
    "    while True:\n",
    "        # 从左边找到比 pivot 大的\n",
    "        while left <= right and array[left] < pivot:\n",
    "            left += 1\n",
    "        # 从右边找到比 pivot 小的, 注意停止循环的条件\n",
    "        while right >= left and array[right] >= pivot:\n",
    "            right -= 1\n",
    "\n",
    "        if left > right:\n",
    "            break\n",
    "        else:\n",
    "            array[left], array[right] = array[right], array[left]\n",
    "\n",
    "    array[pivot_index], array[right] = array[right], array[pivot_index]\n",
    "    return right  # 新的 pivot 位置\n",
    "\n",
    "def test_partition():\n",
    "    l = [4, 1, 2, 8]\n",
    "    assert partition(l, 0, len(l)) == 2\n",
    "    l = [1, 2, 3, 4]\n",
    "    assert partition(l, 0, len(l)) == 0\n",
    "    l = [4, 3, 2, 1]\n",
    "    assert partition(l, 0, len(l))\n",
    "\n",
    "\n",
    "def test_quicksort_inplace():\n",
    "    seq = list(range(10))\n",
    "    random.shuffle(seq)\n",
    "    sorted_seq = sorted(seq)\n",
    "    quicksort_inplace(seq, 0, len(seq))\n",
    "    assert sorted_seq == seq\n",
    "\n",
    "test_partition()\n",
    "test_quicksort_inplace()"
   ]
  },
  {
   "cell_type": "markdown",
   "metadata": {},
   "source": [
    "partition操作：设置左右指针，分别从两边向中间迭代并交换位置，最后right指针停在应与piviot交换的位置。\n",
    "\n",
    "### 算法分析\n",
    "当选定pivot的值为中位数，即每次Partition操作都从序列中间执行时，执行logn次即可将序列分割完毕（考虑二分查找），每一次分割操作需要需要遍历所有的元素与pivot值比较，需要操作n次，总的时间复杂度为O（n*logn）。\n",
    "\n",
    "但是在极端的情况下，比如序列已经是有序的了，若每次选序列首位的元素作为pivot，需要执行n次partition操作才能将序列分割完毕，此时的时间复杂度为O(n^2^).\n",
    "\n",
    "一种解决方案是通过获取**序列首尾以及中间的三个数的中位数**作为pivot，这样就能有效的避免最差的情况的出现。\n",
    "\n",
    "就地快速排序使用的空间是O（1）的，也就是个常数级；而真正消耗空间的就是递归调用了，因为每次递归就要保持一些数据；最优的情况下空间的复杂度是：O(logn),每一次都平分数组的情况；最差的情况下空间复杂度为：O(n),退化为冒泡排序的情况。"
   ]
  },
  {
   "cell_type": "markdown",
   "metadata": {},
   "source": [
    "## 无序数组寻找第 k 大的数字"
   ]
  },
  {
   "cell_type": "code",
   "execution_count": 12,
   "metadata": {},
   "outputs": [],
   "source": [
    "import random\n",
    "\n",
    "def partition_desc(array, beg, end):\n",
    "    pivot_index = beg\n",
    "    pivot = array[pivot_index]\n",
    "    left = pivot_index + 1\n",
    "    right = end - 1  # 开区间，最后一个元素位置是 end-1     [0, end-1] or [0: end)，括号表示开区间\n",
    "\n",
    "    while True:\n",
    "        # 从左边找到比 pivot 大的\n",
    "        while left <= right and array[left] >= pivot:\n",
    "            left += 1\n",
    "        # 从右边找到比 pivot 小的\n",
    "        while right >= left and array[right] < pivot:\n",
    "            right -= 1\n",
    "\n",
    "        if left > right:\n",
    "            break\n",
    "        else:\n",
    "            array[left], array[right] = array[right], array[left]\n",
    "\n",
    "    array[pivot_index], array[right] = array[right], array[pivot_index]\n",
    "    return right  # 新的 pivot 位置\n",
    "\n",
    "\n",
    "def findkth(array, beg, end, k):\n",
    "    index = partition_desc(array, beg, end)\n",
    "    if index == k - 1:\n",
    "        return array[index]\n",
    "    elif index < k - 1:\n",
    "        return findkth(array, index + 1, end, k)\n",
    "    else:\n",
    "        return findkth(array, beg, index, k)\n",
    "\n",
    "    \n",
    "def test_findkth():\n",
    "    seq = list(range(10))\n",
    "    random.shuffle(seq)\n",
    "    sorted_seq = sorted(seq)\n",
    "\n",
    "    assert findkth(seq, 0, len(seq), 3) == 7\n",
    "    \n",
    "test_findkth()"
   ]
  },
  {
   "cell_type": "markdown",
   "metadata": {},
   "source": [
    "## 排序总结\n",
    "\n",
    "稳定性：\n",
    "- 稳定：如果a原来在b的前面，且a=b，排序之后a仍然在b的前面。\n",
    "- 不稳定：如果a原来在b的前面，且a=b，排序之后a可能出现在b的后面。\n",
    "\n",
    "|排序算法|最坏时间复杂度|平均时间复杂度|最好时间复杂度|稳定性|空间复杂度|\n",
    "|--|--|--|--|--|--|\n",
    "|冒泡排序|O(n^2^)|O(n^2^)|O(n)|稳定|O(1)|\n",
    "|选择排序|O(n^2^)|O(n^2^)|O(n^2^)|不稳定|O(1)|\n",
    "|插入排序|O(n^2^)|O(n^2^)|O(n)|稳定|O(1)|\n",
    "|希尔排序|O(n^2^)|O(n^1.3^)|O(n)|不稳定|O(1)|\n",
    "|归并排序|O(n*log2n)|O(n*log2n)|O(n*log2n)|稳定|O(n)|\n",
    "|快速排序|O(n^2^)|O(n*log2n)|O(n*log2n)|不稳定|O(n*log2n)~O(n)|\n",
    "|二叉树排序|O(n^2^)|O(n*log2n)|O(n*log2n)|不稳定|O(n)|\n",
    "|堆排序|O(n*log2n)|O(n*log2n)|O(n*log2n)|不稳定|O(1)|"
   ]
  },
  {
   "cell_type": "code",
   "execution_count": null,
   "metadata": {},
   "outputs": [],
   "source": []
  },
  {
   "cell_type": "code",
   "execution_count": null,
   "metadata": {},
   "outputs": [],
   "source": []
  },
  {
   "cell_type": "code",
   "execution_count": null,
   "metadata": {},
   "outputs": [],
   "source": []
  },
  {
   "cell_type": "code",
   "execution_count": null,
   "metadata": {},
   "outputs": [],
   "source": []
  },
  {
   "cell_type": "code",
   "execution_count": null,
   "metadata": {},
   "outputs": [],
   "source": []
  },
  {
   "cell_type": "code",
   "execution_count": null,
   "metadata": {},
   "outputs": [],
   "source": []
  },
  {
   "cell_type": "code",
   "execution_count": null,
   "metadata": {},
   "outputs": [],
   "source": []
  },
  {
   "cell_type": "code",
   "execution_count": null,
   "metadata": {},
   "outputs": [],
   "source": []
  }
 ],
 "metadata": {
  "kernelspec": {
   "display_name": "Python 3",
   "language": "python",
   "name": "python3"
  },
  "language_info": {
   "codemirror_mode": {
    "name": "ipython",
    "version": 3
   },
   "file_extension": ".py",
   "mimetype": "text/x-python",
   "name": "python",
   "nbconvert_exporter": "python",
   "pygments_lexer": "ipython3",
   "version": "3.6.8"
  }
 },
 "nbformat": 4,
 "nbformat_minor": 2
}
