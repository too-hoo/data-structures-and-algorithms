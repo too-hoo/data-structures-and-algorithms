{
 "cells": [
  {
   "cell_type": "markdown",
   "metadata": {},
   "source": [
    "# 高级排序_Advanced_sort"
   ]
  },
  {
   "cell_type": "markdown",
   "metadata": {},
   "source": [
    "## 1、归并排序"
   ]
  },
  {
   "cell_type": "code",
   "execution_count": 2,
   "metadata": {},
   "outputs": [
    {
     "name": "stdout",
     "output_type": "stream",
     "text": [
      "[0, 1, 2, 3, 4, 5, 6, 7, 8, 9]\n",
      "[0, 1, 2, 3, 4, 5, 6, 7, 8, 9]\n"
     ]
    }
   ],
   "source": [
    "import random\n",
    "\n",
    "\n",
    "def merge_sort(seq):\n",
    "    n = len(seq)\n",
    "    if n <= 1:\n",
    "        return seq\n",
    "    else:\n",
    "        mid = n // 2\n",
    "        # 递归的对左右部分进行分割排序\n",
    "        left_part = merge_sort(seq[:mid])\n",
    "        right_part = merge_sort(seq[mid:])\n",
    "\n",
    "        # 合并排序后的左右部分\n",
    "        new_seq = merge_two_part(left_part, right_part)\n",
    "        return new_seq\n",
    "\n",
    "\n",
    "# 归并两个有序数组\n",
    "def merge_two_part(sorted_a, sorted_b):\n",
    "    length_a = len(sorted_a)\n",
    "    length_b = len(sorted_b)\n",
    "    # 分别在两个数组中设置两个迭代指针，循环的比较指针所指向的值并前移指针（while嵌套if...else结构）\n",
    "    a = b = 0\n",
    "    # 创建一个新列表用于存放两个列表比较时的较小值\n",
    "    new_seq = list()\n",
    "\n",
    "    while a < length_a and b < length_b:\n",
    "        if sorted_a[a] < sorted_b[b]:\n",
    "            new_seq.append(sorted_a[a])\n",
    "            a += 1\n",
    "        else:\n",
    "            new_seq.append(sorted_b[b])\n",
    "            b += 1\n",
    "\n",
    "    # 注意循环终止后将没迭代完成的数组存入列表\n",
    "    if a < length_a:\n",
    "        new_seq.extend(sorted_a[a:])\n",
    "    else:\n",
    "        new_seq.extend(sorted_b[b:])\n",
    "\n",
    "    return new_seq\n",
    "\n",
    "\n",
    "def test_merge_sort():\n",
    "    seq = list(range(10))\n",
    "    random.shuffle(seq)\n",
    "    new_seq = merge_sort(seq)\n",
    "    print(new_seq)\n",
    "    print(sorted(seq))\n",
    "    assert new_seq == sorted(seq)\n",
    "    \n",
    "test_merge_sort()"
   ]
  },
  {
   "cell_type": "markdown",
   "metadata": {},
   "source": [
    "## 2、快速排序"
   ]
  },
  {
   "cell_type": "markdown",
   "metadata": {},
   "source": [
    "### 基础的版本"
   ]
  },
  {
   "cell_type": "code",
   "execution_count": 4,
   "metadata": {},
   "outputs": [],
   "source": [
    "import random\n",
    "\n",
    "\n",
    "def quicksort(array):\n",
    "    if len(array) < 2:  # 递归出口，空数组或者只有一个元素的数组都是有序的\n",
    "        return array\n",
    "    else:\n",
    "        pivot = array[0]\n",
    "        less_part = [i for i in array[1:] if i < pivot]\n",
    "        great_part = [i for i in array[1:] if i >= pivot]\n",
    "        return quicksort(less_part) + [pivot] + quicksort(great_part)\n",
    "\n",
    "\n",
    "def test_quicksort():\n",
    "    seq = list(range(10))\n",
    "    random.shuffle(seq)\n",
    "    sorted_seq = sorted(seq)\n",
    "    quicksorted_seq = quicksort(seq)\n",
    "    assert sorted_seq == quicksorted_seq\n",
    "    \n",
    "test_quicksort()"
   ]
  },
  {
   "cell_type": "markdown",
   "metadata": {},
   "source": [
    "### 改良版本"
   ]
  },
  {
   "cell_type": "code",
   "execution_count": 6,
   "metadata": {},
   "outputs": [],
   "source": [
    "import random\n",
    "\n",
    "\n",
    "def quicksort_inplace(array, beg, end):  # 注意这里我们都用左闭右开区间，end 传入 len(array)\n",
    "    # If the length of the list is less than or equal to one, it is already sorted.\n",
    "    # If it is greater, then it can be partitioned and recursively sorted.\n",
    "    if beg < end - 1:  # 当序列元素小于或等于1时，序列已经是有序的，不需要再继续进行递归的快排操作（原地进行）\n",
    "        pivot = partition(array, beg, end)\n",
    "        quicksort_inplace(array, beg, pivot)\n",
    "        quicksort_inplace(array, pivot + 1, end)\n",
    "\n",
    "\n",
    "def partition(array, beg, end):\n",
    "    pivot_index = beg\n",
    "    pivot = array[pivot_index]\n",
    "    left = pivot_index + 1\n",
    "    right = end - 1  # 开区间，最后一个元素位置是 end-1     [0, end-1] or [0: end)，括号表示开区间\n",
    "\n",
    "    while True:\n",
    "        # 从左边找到比 pivot 大的\n",
    "        while left <= right and array[left] < pivot:\n",
    "            left += 1\n",
    "        # 从右边找到比 pivot 小的, 注意停止循环的条件\n",
    "        while right >= left and array[right] >= pivot:\n",
    "            right -= 1\n",
    "\n",
    "        if left > right:\n",
    "            break\n",
    "        else:\n",
    "            array[left], array[right] = array[right], array[left]\n",
    "\n",
    "    array[pivot_index], array[right] = array[right], array[pivot_index]\n",
    "    return right  # 新的 pivot 位置\n",
    "\n",
    "def test_partition():\n",
    "    l = [4, 1, 2, 8]\n",
    "    assert partition(l, 0, len(l)) == 2\n",
    "    l = [1, 2, 3, 4]\n",
    "    assert partition(l, 0, len(l)) == 0\n",
    "    l = [4, 3, 2, 1]\n",
    "    assert partition(l, 0, len(l))\n",
    "\n",
    "\n",
    "def test_quicksort_inplace():\n",
    "    seq = list(range(10))\n",
    "    random.shuffle(seq)\n",
    "    sorted_seq = sorted(seq)\n",
    "    quicksort_inplace(seq, 0, len(seq))\n",
    "    assert sorted_seq == seq\n",
    "\n",
    "test_partition()\n",
    "test_quicksort_inplace()"
   ]
  },
  {
   "cell_type": "markdown",
   "metadata": {},
   "source": [
    "## 无序数组寻找第 k 大的数字"
   ]
  },
  {
   "cell_type": "code",
   "execution_count": 12,
   "metadata": {},
   "outputs": [],
   "source": [
    "import random\n",
    "\n",
    "def partition_desc(array, beg, end):\n",
    "    pivot_index = beg\n",
    "    pivot = array[pivot_index]\n",
    "    left = pivot_index + 1\n",
    "    right = end - 1  # 开区间，最后一个元素位置是 end-1     [0, end-1] or [0: end)，括号表示开区间\n",
    "\n",
    "    while True:\n",
    "        # 从左边找到比 pivot 大的\n",
    "        while left <= right and array[left] >= pivot:\n",
    "            left += 1\n",
    "        # 从右边找到比 pivot 小的\n",
    "        while right >= left and array[right] < pivot:\n",
    "            right -= 1\n",
    "\n",
    "        if left > right:\n",
    "            break\n",
    "        else:\n",
    "            array[left], array[right] = array[right], array[left]\n",
    "\n",
    "    array[pivot_index], array[right] = array[right], array[pivot_index]\n",
    "    return right  # 新的 pivot 位置\n",
    "\n",
    "\n",
    "def findkth(array, beg, end, k):\n",
    "    index = partition_desc(array, beg, end)\n",
    "    if index == k - 1:\n",
    "        return array[index]\n",
    "    elif index < k - 1:\n",
    "        return findkth(array, index + 1, end, k)\n",
    "    else:\n",
    "        return findkth(array, beg, index, k)\n",
    "\n",
    "    \n",
    "def test_findkth():\n",
    "    seq = list(range(10))\n",
    "    random.shuffle(seq)\n",
    "    sorted_seq = sorted(seq)\n",
    "\n",
    "    assert findkth(seq, 0, len(seq), 3) == 7\n",
    "    \n",
    "test_findkth()"
   ]
  },
  {
   "cell_type": "code",
   "execution_count": null,
   "metadata": {},
   "outputs": [],
   "source": []
  },
  {
   "cell_type": "code",
   "execution_count": null,
   "metadata": {},
   "outputs": [],
   "source": []
  },
  {
   "cell_type": "code",
   "execution_count": null,
   "metadata": {},
   "outputs": [],
   "source": []
  },
  {
   "cell_type": "code",
   "execution_count": null,
   "metadata": {},
   "outputs": [],
   "source": []
  },
  {
   "cell_type": "code",
   "execution_count": null,
   "metadata": {},
   "outputs": [],
   "source": []
  },
  {
   "cell_type": "code",
   "execution_count": null,
   "metadata": {},
   "outputs": [],
   "source": []
  },
  {
   "cell_type": "code",
   "execution_count": null,
   "metadata": {},
   "outputs": [],
   "source": []
  },
  {
   "cell_type": "code",
   "execution_count": null,
   "metadata": {},
   "outputs": [],
   "source": []
  },
  {
   "cell_type": "code",
   "execution_count": null,
   "metadata": {},
   "outputs": [],
   "source": []
  }
 ],
 "metadata": {
  "kernelspec": {
   "display_name": "Python 3",
   "language": "python",
   "name": "python3"
  },
  "language_info": {
   "codemirror_mode": {
    "name": "ipython",
    "version": 3
   },
   "file_extension": ".py",
   "mimetype": "text/x-python",
   "name": "python",
   "nbconvert_exporter": "python",
   "pygments_lexer": "ipython3",
   "version": "3.6.8"
  }
 },
 "nbformat": 4,
 "nbformat_minor": 2
}
