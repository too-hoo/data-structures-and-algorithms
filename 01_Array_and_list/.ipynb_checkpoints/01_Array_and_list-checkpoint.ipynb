{
 "cells": [
  {
   "cell_type": "markdown",
   "metadata": {},
   "source": [
    "# chapter01_数组与列表"
   ]
  },
  {
   "cell_type": "markdown",
   "metadata": {},
   "source": [
    "### array\n",
    "python 内置有array的类型，但是使用的限制比较多仅仅支持同一数据类型的数值、字符串元素，很少使用\n",
    "\n",
    "### list\n",
    "list的底层使用C语言实现，基于动态的数组实现（根据元素数据量自动调整大小），在CPython实现中，lists是指向列表对象的指针组成的array数组。各个操作的时间复杂度如下：\n",
    "\n",
    "|操作|平均时间复杂度|\n",
    "|--|--|\n",
    "|list[index]|O(1)|\n",
    "|list.append|O(1)|\n",
    "|list.insert|O(n)|\n",
    "|list.pop(index),default last element|O(1)|\n",
    "|list.remove|O(n)|\n",
    "\n",
    "## 下面是使用list实现Array ADT\n",
    "使用内置的list实现定长的数组"
   ]
  },
  {
   "cell_type": "code",
   "execution_count": 1,
   "metadata": {},
   "outputs": [],
   "source": [
    "# 数组的定义（顺序表）\n",
    "class Array(object):\n",
    "    def __init__(self, size=32):  # 关键属性：分配空间和存储单位（使用列表的单个元素作为一个存储单位）\n",
    "        self._size = size\n",
    "        self._items = [None] * size\n",
    "\n",
    "    def __getitem__(self, index):  # Called to implement evaluation of self[index]实现下标访问.\n",
    "        return self._items[index]\n",
    "\n",
    "    def __setitem__(self, index, value):  # Called to implement assignment to self[index].\n",
    "        self._items[index] = value\n",
    "\n",
    "    def __len__(self):\n",
    "        return self._size\n",
    "\n",
    "    def clear(self, value=None): # 全部清空设置为None\n",
    "        for i in range(len(self._items)):\n",
    "            self._items[i] = value\n",
    "\n",
    "    def __iter__(self):\n",
    "        for item in self._items:\n",
    "            yield item\n",
    "\n",
    "\n",
    "def test_array():\n",
    "    size = 10\n",
    "    a = Array(size)\n",
    "    a[0] = 1\n",
    "    assert a[0] == 1\n",
    "    assert len(a) == 10\n",
    "    \n",
    "test_array()"
   ]
  },
  {
   "cell_type": "code",
   "execution_count": 6,
   "metadata": {},
   "outputs": [],
   "source": []
  },
  {
   "cell_type": "code",
   "execution_count": null,
   "metadata": {},
   "outputs": [],
   "source": []
  },
  {
   "cell_type": "code",
   "execution_count": null,
   "metadata": {},
   "outputs": [],
   "source": []
  },
  {
   "cell_type": "code",
   "execution_count": null,
   "metadata": {},
   "outputs": [],
   "source": []
  },
  {
   "cell_type": "code",
   "execution_count": null,
   "metadata": {},
   "outputs": [],
   "source": []
  },
  {
   "cell_type": "code",
   "execution_count": null,
   "metadata": {},
   "outputs": [],
   "source": []
  }
 ],
 "metadata": {
  "kernelspec": {
   "display_name": "Python 3",
   "language": "python",
   "name": "python3"
  },
  "language_info": {
   "codemirror_mode": {
    "name": "ipython",
    "version": 3
   },
   "file_extension": ".py",
   "mimetype": "text/x-python",
   "name": "python",
   "nbconvert_exporter": "python",
   "pygments_lexer": "ipython3",
   "version": "3.6.8"
  }
 },
 "nbformat": 4,
 "nbformat_minor": 2
}
