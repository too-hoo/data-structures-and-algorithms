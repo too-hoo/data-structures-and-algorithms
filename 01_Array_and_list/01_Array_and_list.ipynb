{
 "cells": [
  {
   "cell_type": "markdown",
   "metadata": {},
   "source": [
    "# chapter01_数组与列表"
   ]
  },
  {
   "cell_type": "code",
   "execution_count": 9,
   "metadata": {},
   "outputs": [],
   "source": [
    "# 数组的定义（顺序表）\n",
    "class Array(object):\n",
    "    def __init__(self, size=32):  # 关键属性：分配空间和存储单位（使用列表的单个元素作为一个存储单位）\n",
    "        self._size = size\n",
    "        self._items = [None] * size\n",
    "\n",
    "    def __getitem__(self, index):  # Called to implement evaluation of self[index]实现下标访问.\n",
    "        return self._items[index]\n",
    "\n",
    "    def __setitem__(self, index, value):  # Called to implement assignment to self[index].\n",
    "        self._items[index] = value\n",
    "\n",
    "    def __len__(self):\n",
    "        return self._size\n",
    "\n",
    "    def clear(self, value=None): # 全部清空设置为None\n",
    "        for i in range(len(self._items)):\n",
    "            self._items[i] = value\n",
    "\n",
    "    def __iter__(self):\n",
    "        for item in self._items:\n",
    "            yield item\n",
    "\n",
    "\n",
    "def test_array():\n",
    "    size = 10\n",
    "    a = Array(size)\n",
    "    a[0] = 1\n",
    "    assert a[0] == 1\n",
    "    assert len(a) == 10\n",
    "    \n",
    "test_array()"
   ]
  },
  {
   "cell_type": "code",
   "execution_count": 6,
   "metadata": {},
   "outputs": [],
   "source": []
  },
  {
   "cell_type": "code",
   "execution_count": null,
   "metadata": {},
   "outputs": [],
   "source": []
  },
  {
   "cell_type": "code",
   "execution_count": null,
   "metadata": {},
   "outputs": [],
   "source": []
  },
  {
   "cell_type": "code",
   "execution_count": null,
   "metadata": {},
   "outputs": [],
   "source": []
  },
  {
   "cell_type": "code",
   "execution_count": null,
   "metadata": {},
   "outputs": [],
   "source": []
  },
  {
   "cell_type": "code",
   "execution_count": null,
   "metadata": {},
   "outputs": [],
   "source": []
  }
 ],
 "metadata": {
  "kernelspec": {
   "display_name": "Python 3",
   "language": "python",
   "name": "python3"
  },
  "language_info": {
   "codemirror_mode": {
    "name": "ipython",
    "version": 3
   },
   "file_extension": ".py",
   "mimetype": "text/x-python",
   "name": "python",
   "nbconvert_exporter": "python",
   "pygments_lexer": "ipython3",
   "version": "3.6.8"
  }
 },
 "nbformat": 4,
 "nbformat_minor": 2
}
