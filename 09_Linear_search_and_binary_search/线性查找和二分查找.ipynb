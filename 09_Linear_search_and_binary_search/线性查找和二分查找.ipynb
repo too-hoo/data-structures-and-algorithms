{
 "cells": [
  {
   "cell_type": "markdown",
   "metadata": {},
   "source": [
    "# 线性查找和二分查找（Linear_search_and_binary_search）"
   ]
  },
  {
   "cell_type": "markdown",
   "metadata": {},
   "source": [
    "## 1、线性查找（linear_search.py）"
   ]
  },
  {
   "cell_type": "code",
   "execution_count": null,
   "metadata": {},
   "outputs": [],
   "source": [
    "# 先定义一个范围为8的列表\n",
    "number_list = list(range(8))\n",
    "\n",
    "# 使用enumerate()函数（因为需要使用到index和val），实现线性查找，找到就返回index，否则返回-1\n",
    "def linear_search(value, iterable):\n",
    "    for index, val in enumerate(iterable):\n",
    "        if val == value:\n",
    "            return index\n",
    "    return -1\n",
    "\n",
    "assert linear_search(5, number_list) == 5"
   ]
  },
  {
   "cell_type": "markdown",
   "metadata": {},
   "source": [
    "## 2、二分查找（binary_search.py）等值查找"
   ]
  },
  {
   "cell_type": "markdown",
   "metadata": {},
   "source": [
    "###  二分查找1：1双闭区间, end=len(a)-1"
   ]
  },
  {
   "cell_type": "code",
   "execution_count": null,
   "metadata": {},
   "outputs": [],
   "source": [
    "\n",
    "def binary_search(sorted_list, beg, end, value):  # 双闭区间, end=len(a)-1\n",
    "    # 如果传入的list为空直接就返回-1\n",
    "    if not sorted_list:\n",
    "        return -1\n",
    "\n",
    "    while beg <= end:\n",
    "        mid = (beg + end) // 2  # 取中值，使用//目的是返回整形数据\n",
    "        if sorted_list[mid] == value:  # 如果刚好相等就直接返回，否则分成两种情况进行查找\n",
    "            return mid\n",
    "        elif sorted_list[mid] < value:\n",
    "            beg = mid + 1\n",
    "        else:\n",
    "            end = mid - 1\n",
    "    return -1\n",
    "\n",
    "\n",
    "def test_binary_search():\n",
    "    a = list(range(10))\n",
    "    \n",
    "    # （查找列表，起始位置，结束位置，待查找的值）\n",
    "    assert binary_search(a, 0, len(a) - 1, 3) == 3\n",
    "    assert binary_search(a, 0, len(a) - 1, 10) == -1 # 超出边界的返回-1\n",
    "    assert binary_search(a, 0, len(a) - 1, 9) == 9\n",
    "\n",
    "    assert binary_search(None, 0, len(a) - 1, 0) == -1 # 列表为空直接返回-1\n",
    "\n",
    "    assert binary_search(a, 0, len(a) - 1, 0) == 0 # 找到，成功\n",
    "    assert binary_search(a, 0, len(a) - 1, 9) == 9"
   ]
  },
  {
   "cell_type": "markdown",
   "metadata": {},
   "source": [
    "### 二分查找2： 左开右闭区间, end=len(sorted_list)"
   ]
  },
  {
   "cell_type": "code",
   "execution_count": 1,
   "metadata": {},
   "outputs": [],
   "source": [
    "def binary_search(sorted_list, beg, end, value):  # 左开右闭区间, end=len(sorted_list)\n",
    "    while beg < end:\n",
    "        mid = beg + (end - beg) // 2 # 防止数据的溢出\n",
    "        if sorted_list[mid] == value:\n",
    "            return mid\n",
    "        elif sorted_list[mid] < value:\n",
    "            beg = mid + 1 # 左开右闭，所以需要令beg = mid + 1（不包含左边的值）\n",
    "        else:\n",
    "            end = mid  # 左开右闭，所以直接令end=mid（包含右边的值）\n",
    "    return beg  # 如果没找到，或者条件不满足就直接但会开始的值\n",
    "\n",
    "\n",
    "def test_binary_search():\n",
    "    a = list(range(10))\n",
    "    # （查找列表，起始位置，结束位置，待查找的值）\n",
    "    assert binary_search(a, 0, len(a), 3) == 3\n",
    "    assert binary_search(a, 0, len(a), 10) == 10\n",
    "    assert binary_search(a, 0, len(a), 9) == 9\n",
    "\n",
    "    assert binary_search(a, 0, len(a), 0) == 0\n",
    "\n",
    "test_binary_search()"
   ]
  },
  {
   "cell_type": "markdown",
   "metadata": {},
   "source": [
    "## 求上下界\n",
    "用二分查找法求下界："
   ]
  },
  {
   "cell_type": "code",
   "execution_count": null,
   "metadata": {},
   "outputs": [],
   "source": [
    "def lower_bound(array, first, last, value):  # 返回[first, last)内第一个不小于value的值的位置\n",
    "    while first < last:  # 搜索区间[first, last)不为空\n",
    "        mid = first + (last - first) // 2  # 防溢出\n",
    "        if array[mid] < value: # 要找第一个不小于value的值，所以此处应该为小于符号\n",
    "            first = mid + 1 # 在右边的话mid需要加1\n",
    "        else:\n",
    "            last = mid\n",
    "    return first  # last也行，因为[first, last)为空的时候它们重合\n",
    "\n",
    "\n",
    "def test_binary_search():\n",
    "    a = list(range(10))\n",
    "\n",
    "    # （待查找列表，起始位置，终止位置，待查元素）\n",
    "    assert lower_bound(a, 0, 10, 3) == 3\n",
    "    assert lower_bound(a, 0, 10, 10) == 10\n",
    "    assert lower_bound(a, 0, 10, 9) == 9\n",
    "    assert lower_bound(a, 0, 10, 0) == 0\n",
    "\n",
    "    assert lower_bound(a, 0, 10, 9) == 9"
   ]
  },
  {
   "cell_type": "code",
   "execution_count": null,
   "metadata": {},
   "outputs": [],
   "source": []
  },
  {
   "cell_type": "code",
   "execution_count": null,
   "metadata": {},
   "outputs": [],
   "source": []
  },
  {
   "cell_type": "code",
   "execution_count": null,
   "metadata": {},
   "outputs": [],
   "source": []
  }
 ],
 "metadata": {
  "kernelspec": {
   "display_name": "Python 3",
   "language": "python",
   "name": "python3"
  },
  "language_info": {
   "codemirror_mode": {
    "name": "ipython",
    "version": 3
   },
   "file_extension": ".py",
   "mimetype": "text/x-python",
   "name": "python",
   "nbconvert_exporter": "python",
   "pygments_lexer": "ipython3",
   "version": "3.6.8"
  }
 },
 "nbformat": 4,
 "nbformat_minor": 2
}
