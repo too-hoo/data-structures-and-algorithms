{
 "cells": [
  {
   "cell_type": "code",
   "execution_count": 8,
   "metadata": {},
   "outputs": [
    {
     "name": "stdout",
     "output_type": "stream",
     "text": [
      "1\n",
      "1\n",
      "1 1 1\n"
     ]
    }
   ],
   "source": [
    "K = int(input())\n",
    "number_list = list(map(int, input().split()))\n",
    "max_sum = 0\n",
    "this_sum = 0\n",
    "start = number_list[0]\n",
    "end = number_list[-1]\n",
    "temp_first_number = number_list[0]\n",
    "count = 0\n",
    "for i in range(K):\n",
    "    if this_sum > 0:\n",
    "        count += 1\n",
    "    this_sum += number_list[i]\n",
    "    if this_sum > max_sum:\n",
    "        max_sum = this_sum\n",
    "        end = number_list[i]\n",
    "        start = number_list[i - count]\n",
    "    elif this_sum <= 0:\n",
    "        this_sum = 0\n",
    "        count = 0\n",
    "print(max_sum, start, end)"
   ]
  },
  {
   "cell_type": "code",
   "execution_count": 10,
   "metadata": {},
   "outputs": [
    {
     "name": "stdout",
     "output_type": "stream",
     "text": [
      "4\n",
      "3 2 1\n",
      "6\n"
     ]
    }
   ],
   "source": [
    "K = int(input())\n",
    "number_list = list(map(int, input().split()))\n",
    "max_sum = 0\n",
    "this_sum = 0\n",
    "for i in number_list:\n",
    "    this_sum += i\n",
    "    if this_sum > max_sum:\n",
    "        max_sum = this_sum\n",
    "    elif this_sum < 0:\n",
    "        this_sum = 0\n",
    "print(max_sum)"
   ]
  },
  {
   "cell_type": "code",
   "execution_count": null,
   "metadata": {},
   "outputs": [],
   "source": []
  }
 ],
 "metadata": {
  "kernelspec": {
   "display_name": "Python 3",
   "language": "python",
   "name": "python3"
  },
  "language_info": {
   "codemirror_mode": {
    "name": "ipython",
    "version": 3
   },
   "file_extension": ".py",
   "mimetype": "text/x-python",
   "name": "python",
   "nbconvert_exporter": "python",
   "pygments_lexer": "ipython3",
   "version": "3.6.8"
  }
 },
 "nbformat": 4,
 "nbformat_minor": 2
}
