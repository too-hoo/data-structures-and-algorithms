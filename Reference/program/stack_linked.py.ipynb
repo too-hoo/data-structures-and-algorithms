{
 "cells": [
  {
   "cell_type": "code",
   "execution_count": 1,
   "metadata": {},
   "outputs": [
    {
     "name": "stdout",
     "output_type": "stream",
     "text": [
      "19\n",
      "100\n",
      "20\n",
      "10\n",
      "18\n",
      "19\n",
      "14\n",
      "5\n",
      "3\n",
      "5\n",
      "3\n"
     ]
    }
   ],
   "source": [
    "\"\"\" 基于链接表概念（链接结点）实现的栈类 \"\"\"\n",
    "\n",
    "from list_node import LNode\n",
    "\n",
    "\n",
    "class StackUnderflow(ValueError):\n",
    "    pass\n",
    "\n",
    "\n",
    "class LStack():  # stack implemented as a linked node list\n",
    "    def __init__(self):\n",
    "        self._top = None\n",
    "\n",
    "    def is_empty(self):\n",
    "        return self._top is None\n",
    "\n",
    "    def top(self):\n",
    "        if self._top is None:\n",
    "            raise StackUnderflow\n",
    "        return self._top.elem\n",
    "\n",
    "    def push(self, elem):\n",
    "        self._top = LNode(elem, self._top)\n",
    "\n",
    "    def pop(self):\n",
    "        if self._top is None:\n",
    "            raise StackUnderflow\n",
    "        e = self._top.elem\n",
    "        self._top = self._top.next\n",
    "        return e\n",
    "\n",
    "\n",
    "if __name__ == '__main__':\n",
    "    from random import randint\n",
    "    st1 = LStack()\n",
    "\n",
    "    for i in range(10):\n",
    "        st1.push(randint(1, 20))\n",
    "\n",
    "    print(st1.pop())\n",
    "    st1.pop()\n",
    "    st1.push(20)\n",
    "    st1.push(100)\n",
    "    while not st1.is_empty():\n",
    "        print(st1.pop())"
   ]
  },
  {
   "cell_type": "code",
   "execution_count": null,
   "metadata": {},
   "outputs": [],
   "source": []
  }
 ],
 "metadata": {
  "kernelspec": {
   "display_name": "Python 3",
   "language": "python",
   "name": "python3"
  },
  "language_info": {
   "codemirror_mode": {
    "name": "ipython",
    "version": 3
   },
   "file_extension": ".py",
   "mimetype": "text/x-python",
   "name": "python",
   "nbconvert_exporter": "python",
   "pygments_lexer": "ipython3",
   "version": "3.6.8"
  }
 },
 "nbformat": 4,
 "nbformat_minor": 2
}
