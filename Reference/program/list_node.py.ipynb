{
 "cells": [
  {
   "cell_type": "code",
   "execution_count": 1,
   "metadata": {},
   "outputs": [
    {
     "name": "stdout",
     "output_type": "stream",
     "text": [
      "10\n",
      "1\n",
      "2\n",
      "3\n",
      "4\n",
      "5\n",
      "6\n",
      "7\n",
      "8\n",
      "9\n",
      "10\n"
     ]
    }
   ],
   "source": [
    "\"\"\" 链接表结点类和一个使用结点的简单函数 \"\"\"\n",
    "\n",
    "class LinkedListUnderflow(ValueError):\n",
    "    pass\n",
    "\n",
    "\n",
    "class LNode:\n",
    "    def __init__(self, elem, next_=None):\n",
    "        self.elem = elem\n",
    "        self.next = next_\n",
    "\n",
    "\n",
    "def length(head):\n",
    "    p, n = head, 0\n",
    "    while p:\n",
    "        n += 1\n",
    "        p = p.next\n",
    "    return n\n",
    "\n",
    "if __name__ == '__main__':\n",
    "\n",
    "    llist1 = LNode(1)\n",
    "    p = llist1\n",
    "\n",
    "    for i in range(2, 11):\n",
    "        p.next = LNode(i)\n",
    "        p = p.next\n",
    "\n",
    "    print(length(llist1))\n",
    "\n",
    "    p = llist1\n",
    "    while p:\n",
    "        print(p.elem)\n",
    "        p = p.next"
   ]
  },
  {
   "cell_type": "code",
   "execution_count": null,
   "metadata": {},
   "outputs": [],
   "source": []
  }
 ],
 "metadata": {
  "kernelspec": {
   "display_name": "Python 3",
   "language": "python",
   "name": "python3"
  },
  "language_info": {
   "codemirror_mode": {
    "name": "ipython",
    "version": 3
   },
   "file_extension": ".py",
   "mimetype": "text/x-python",
   "name": "python",
   "nbconvert_exporter": "python",
   "pygments_lexer": "ipython3",
   "version": "3.6.8"
  }
 },
 "nbformat": 4,
 "nbformat_minor": 2
}
