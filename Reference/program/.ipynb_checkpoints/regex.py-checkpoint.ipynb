{
 "cells": [
  {
   "cell_type": "code",
   "execution_count": 1,
   "metadata": {},
   "outputs": [
    {
     "name": "stdout",
     "output_type": "stream",
     "text": [
      "0\n",
      "4\n",
      "9\n",
      "0\n",
      "-1\n",
      "-1\n",
      "0\n",
      "6\n",
      "9\n",
      "-1\n"
     ]
    }
   ],
   "source": [
    "\"\"\" 简单正则表达式的匹配 \"\"\"\n",
    "\n",
    "__author__ = 'toohoo'\n",
    "#### 简化正则表达式匹配函数\n",
    "## 模式语言：\n",
    "## 字符 c 与其自身匹配\n",
    "## ^ 与字符串开头匹配（匹配前缀）\n",
    "## $ 与字符串结束匹配（匹配后缀）\n",
    "## . 与任何字符匹配\n",
    "## * 和其前一字符一起，与该字符的0次或任意次出现匹配\n",
    "\n",
    "## 限制：字符串中不能出现上述元字符（不支持换意序列）\n",
    "\n",
    "\n",
    "def match(re, text):\n",
    "    rlen, tlen = len(re), len(text)\n",
    "\n",
    "    def match_here(re, i, text, j):\n",
    "        \"\"\"检查从text[j]开始的正文是否与re[i]开始的模式匹配\"\"\"\n",
    "        while True:\n",
    "            if i == rlen:\n",
    "                return True\n",
    "            if re[i] == '$':\n",
    "                return i+1 == rlen and j == tlen\n",
    "            if i+1 < rlen and re[i+1] == '*':\n",
    "                return match_star(re[i], re, i+2, text, j)\n",
    "            if j == tlen or (re[i] != '.' and re[i] != text[j]):\n",
    "                return False\n",
    "            i, j = i+1, j+1\n",
    "\n",
    "    def match_star(c, re, i, text, j):\n",
    "        \"\"\"在text里跳过0个或多个c后检查匹配\"\"\"\n",
    "        for n in range(j, tlen):\n",
    "            # print(c, n, i, j)\n",
    "            if match_here(re, i, text, n):\n",
    "                return True\n",
    "            if text[n] != c and c != '.':\n",
    "                break\n",
    "        return False\n",
    "\n",
    "    if re[0] == '^':\n",
    "        if match_here(re, 1, text, 0): # 只匹配前缀\n",
    "            return 0\n",
    "        return -1                      # 匹配前缀不成功\n",
    "    for n in range(tlen):              # 检查各个位置的匹配\n",
    "        if match_here(re, 0, text, n):\n",
    "            return n\n",
    "    return -1\n",
    "\n",
    "p1 = \"a*b.*\"\n",
    "p2 = \"^ab*c.$\"\n",
    "p3 = \"a*bc.*bc\"\n",
    "p4 = \"aab*c$\"\n",
    "\n",
    "print(match(p1, \"bccdabaaabcbbabcccbc\")) # 0\n",
    "print(match(p1, \"cccdabaaabcbbabcccbc\")) # 4\n",
    "print(match(p1, \"cccdadcccbcbaabcccbc\")) # 9\n",
    "print(match(p2, \"abbbbbca\"))             # 0\n",
    "print(match(p2, \"^^^^abbcd\"))            # -1\n",
    "print(match(p2, \"abbbbbcda\"))            # -1\n",
    "print(match(p3, \"bccdabaaabcbbabcccbc\")) # 0\n",
    "print(match(p3, \"dccdabaaabcbbabcccbc\")) # 6\n",
    "print(match(p4, \"hfahfjkhhaabbc\"))       # 9\n",
    "print(match(p4, \"hfahfjkhhaabbcd\"))      # -1"
   ]
  },
  {
   "cell_type": "code",
   "execution_count": null,
   "metadata": {},
   "outputs": [],
   "source": []
  }
 ],
 "metadata": {
  "kernelspec": {
   "display_name": "Python 3",
   "language": "python",
   "name": "python3"
  },
  "language_info": {
   "codemirror_mode": {
    "name": "ipython",
    "version": 3
   },
   "file_extension": ".py",
   "mimetype": "text/x-python",
   "name": "python",
   "nbconvert_exporter": "python",
   "pygments_lexer": "ipython3",
   "version": "3.6.8"
  }
 },
 "nbformat": 4,
 "nbformat_minor": 2
}
