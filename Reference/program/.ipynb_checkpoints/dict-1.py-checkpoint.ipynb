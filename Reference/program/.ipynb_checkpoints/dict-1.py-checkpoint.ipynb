{
 "cells": [
  {
   "cell_type": "code",
   "execution_count": 1,
   "metadata": {},
   "outputs": [
    {
     "name": "stdout",
     "output_type": "stream",
     "text": [
      "['Assoc(1,8)', 'Assoc(4,1)', 'Assoc(5,13)', 'Assoc(8,0)', 'Assoc(9,4)', 'Assoc(12,7)', 'Assoc(15,15)', 'Assoc(16,11)', 'Assoc(16,12)', 'Assoc(19,6)', 'Assoc(22,2)', 'Assoc(22,10)', 'Assoc(22,14)', 'Assoc(24,3)', 'Assoc(26,9)', 'Assoc(28,5)']\n",
      "Search 1 in the list and get: 8\n",
      "Search 4 in the list and get: 1\n",
      "Search 7 in the list and get: None\n",
      "Search 10 in the list and get: None\n",
      "Search 13 in the list and get: None\n",
      "Search 16 in the list and get: 11\n",
      "Search 19 in the list and get: 6\n",
      "Search 22 in the list and get: 10\n",
      "Search 25 in the list and get: None\n",
      "Search 28 in the list and get: 5\n",
      "12345: 35920671\n",
      "asdfg: 71498153\n"
     ]
    }
   ],
   "source": [
    "\"\"\" 二分检索等函数 \n",
    "\"\"\"\n",
    "\n",
    "from assoc import Assoc\n",
    "from random import randint\n",
    "\n",
    "# Suppose lst is a list of Assoc object,\n",
    "# where e.key and e.value give their key and value respectively\n",
    "\n",
    "\n",
    "def bisearch(lst, key):\n",
    "    low, high = 0, len(lst)-1\n",
    "    while low <= high:  # There are elements in the interval\n",
    "        mid = (low + high) // 2\n",
    "        if key == lst[mid].key:\n",
    "            return lst[mid].value\n",
    "        if key < lst[mid].key:\n",
    "            high = mid - 1  # continue in the lower half part\n",
    "        else:\n",
    "            low = mid + 1   # continue in the higher half part\n",
    "\n",
    "\n",
    "# A simple digit-str/general-str hash function\n",
    "def int_str_hash(sn): \n",
    "    h = 0\n",
    "    for c in sn:\n",
    "        h = (h*10 + int(c)*31) % 65521\n",
    "    return h\n",
    "\n",
    "\n",
    "class LSet:  # A part of a simple set class\n",
    "    def __init__(self, elems=[]):\n",
    "        self._elems = []\n",
    "        for x in elems:\n",
    "            if x not in self._elems:\n",
    "                self._elems.append(x)\n",
    "\n",
    "    def includes(self, e):\n",
    "        return e in self._elems\n",
    "\n",
    "\n",
    "def str_hash(s):\n",
    "    h1 = 0\n",
    "    for c in s:\n",
    "        h1 = h1 * 29 + ord(c)\n",
    "    return h1\n",
    "\n",
    "\n",
    "if __name__ == '__main__':\n",
    "\n",
    "    lst1 = [Assoc(randint(1, 30), i) for i in range(16)]\n",
    "    lst1.sort()\n",
    "    print(list(map(str, lst1)))\n",
    "    for i in range(1, 30, 3):\n",
    "        ind = bisearch(lst1, i)\n",
    "        print(\"Search\", i, \"in the list and get:\", ind)\n",
    "\n",
    "    print(\"12345:\",str_hash(\"12345\"))\n",
    "    print(\"asdfg:\",str_hash(\"asdfg\"))\n",
    "\n",
    "    pass"
   ]
  },
  {
   "cell_type": "code",
   "execution_count": null,
   "metadata": {},
   "outputs": [],
   "source": []
  }
 ],
 "metadata": {
  "kernelspec": {
   "display_name": "Python 3",
   "language": "python",
   "name": "python3"
  },
  "language_info": {
   "codemirror_mode": {
    "name": "ipython",
    "version": 3
   },
   "file_extension": ".py",
   "mimetype": "text/x-python",
   "name": "python",
   "nbconvert_exporter": "python",
   "pygments_lexer": "ipython3",
   "version": "3.6.8"
  }
 },
 "nbformat": 4,
 "nbformat_minor": 2
}
