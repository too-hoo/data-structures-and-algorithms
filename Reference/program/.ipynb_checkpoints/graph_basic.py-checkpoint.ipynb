{
 "cells": [
  {
   "cell_type": "code",
   "execution_count": 1,
   "metadata": {},
   "outputs": [
    {
     "name": "stdout",
     "output_type": "stream",
     "text": [
      "[0, 1, 3, 7, 4, 2, 5, 6]\n",
      "[0, 1, 2, 5, 3, 4, 6] \n",
      "\n",
      "[(0, 0), (0, 1), (0, 1), (1, 1), (7, 1), (2, 1), (2, 1), (3, 1)]\n",
      "[(0, 0), (0, 1), (1, 1), (0, 1), (0, 1), (2, 1), (4, 1)]\n"
     ]
    }
   ],
   "source": [
    "\"\"\" 图的DFS序列和DFS生成树的函数 \n",
    "\"\"\"\n",
    "\n",
    "from graph import *\n",
    "\n",
    "from stack_list import SStack\n",
    "#from queue_list import SQueue, QueueUnderflow\n",
    "\n",
    "# Generate the DFS sequence of reachable vertices from v0\n",
    "\n",
    "\n",
    "def DFS_seq(graph, v0):\n",
    "    vnum = graph.vertex_num()\n",
    "    visited = [0]*vnum\n",
    "    visited[v0] = 1\n",
    "    dfs_seq = [v0]\n",
    "    st = SStack()\n",
    "    st.push((0, graph.out_edges(v0)))\n",
    "    while not st.is_empty():\n",
    "        i, edges = st.pop()\n",
    "        if i < len(edges):\n",
    "            v, e = edges[i]\n",
    "            st.push((i+1, edges))\n",
    "            if visited[v] == 0:  # unvisited node\n",
    "                dfs_seq.append(v)\n",
    "                visited[v] = 1\n",
    "                st.push((0, graph.out_edges(v)))\n",
    "    return dfs_seq\n",
    "\n",
    "# Generate span-forest of a graph, recursive definition\n",
    "\n",
    "\n",
    "def DFS_span_forest(graph):\n",
    "    vnum = graph.vertex_num()\n",
    "    span_forest = [None] * vnum\n",
    "\n",
    "    def dfs(gr, v):\n",
    "        nonlocal span_forest\n",
    "        for u, w in gr.out_edges(v):\n",
    "            if span_forest[u] is None:\n",
    "                span_forest[u] = (v, w)\n",
    "                dfs(gr, u)\n",
    "\n",
    "    for v in range(vnum):\n",
    "        if span_forest[v] is None:\n",
    "            span_forest[v] = (v, 0)\n",
    "            dfs(graph, v)\n",
    "    return span_forest\n",
    "\n",
    "\n",
    "if __name__ == '__main__':\n",
    "    g1 = GraphAL(gmat1, 0)\n",
    "    dfs1 = DFS_seq(g1, 0)\n",
    "    print(dfs1)\n",
    "\n",
    "    g2 = GraphAL(gmat2, 0)\n",
    "    dfs2 = DFS_seq(g2, 0)\n",
    "    print(dfs2, \"\\n\")\n",
    "    \n",
    "    dfs_tree = DFS_span_forest(g1)\n",
    "    print(dfs_tree)\n",
    "    dfs_tree = DFS_span_forest(g2)\n",
    "    print(dfs_tree)"
   ]
  },
  {
   "cell_type": "code",
   "execution_count": null,
   "metadata": {},
   "outputs": [],
   "source": []
  }
 ],
 "metadata": {
  "kernelspec": {
   "display_name": "Python 3",
   "language": "python",
   "name": "python3"
  },
  "language_info": {
   "codemirror_mode": {
    "name": "ipython",
    "version": 3
   },
   "file_extension": ".py",
   "mimetype": "text/x-python",
   "name": "python",
   "nbconvert_exporter": "python",
   "pygments_lexer": "ipython3",
   "version": "3.6.8"
  }
 },
 "nbformat": 4,
 "nbformat_minor": 2
}
