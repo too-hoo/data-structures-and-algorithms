{
 "cells": [
  {
   "cell_type": "code",
   "execution_count": 1,
   "metadata": {},
   "outputs": [
    {
     "name": "stdout",
     "output_type": "stream",
     "text": [
      "(1(2^^)(3^^))\n",
      "\n",
      "(33(14(7(3^^)(4^^))(7^^))(19(9(4(2^^)(2^^))(5^^))(10^^)))"
     ]
    }
   ],
   "source": [
    "\"\"\" 基于二叉树实现 Huffman 树 \n",
    "\"\"\"\n",
    "\n",
    "from prioqueue import PrioQueue  # , PrioQueueError\n",
    "from bintree import BinTNode, print_BinTNodes\n",
    "\n",
    "\n",
    "class HTNode(BinTNode):\n",
    "    def __lt__(self, othernode):\n",
    "        return self.data < othernode.data\n",
    "\n",
    "\n",
    "class HuffmanPrioQ(PrioQueue):\n",
    "    def number(self):\n",
    "        return len(self._elems)\n",
    "\n",
    "\n",
    "def HuffmanTree(weights):\n",
    "    trees = HuffmanPrioQ()\n",
    "    for w in weights:\n",
    "        trees.enqueue(HTNode(w))\n",
    "    while trees.number() > 1:\n",
    "        t1 = trees.dequeue()\n",
    "        t2 = trees.dequeue()\n",
    "        x = t1.data + t2.data\n",
    "        trees.enqueue(HTNode(x, t1, t2))\n",
    "    return trees.dequeue()\n",
    "\n",
    "\n",
    "if __name__ == '__main__':\n",
    "\n",
    "    t = BinTNode(1, BinTNode(2), BinTNode(3))\n",
    "    print_BinTNodes(t)\n",
    "    print(\"\\n\")\n",
    "\n",
    "    h = HuffmanTree([2, 3, 7, 10, 4, 2, 5])\n",
    "    print_BinTNodes(h)\n",
    "\n",
    "    pass"
   ]
  },
  {
   "cell_type": "code",
   "execution_count": null,
   "metadata": {},
   "outputs": [],
   "source": []
  }
 ],
 "metadata": {
  "kernelspec": {
   "display_name": "Python 3",
   "language": "python",
   "name": "python3"
  },
  "language_info": {
   "codemirror_mode": {
    "name": "ipython",
    "version": 3
   },
   "file_extension": ".py",
   "mimetype": "text/x-python",
   "name": "python",
   "nbconvert_exporter": "python",
   "pygments_lexer": "ipython3",
   "version": "3.6.8"
  }
 },
 "nbformat": 4,
 "nbformat_minor": 2
}
