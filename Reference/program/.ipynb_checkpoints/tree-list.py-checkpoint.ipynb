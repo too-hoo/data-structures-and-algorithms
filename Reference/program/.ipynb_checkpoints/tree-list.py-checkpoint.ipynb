{
 "cells": [
  {
   "cell_type": "code",
   "execution_count": 1,
   "metadata": {},
   "outputs": [
    {
     "name": "stdout",
     "output_type": "stream",
     "text": [
      "None\n",
      "None\n"
     ]
    }
   ],
   "source": [
    "\"\"\" 树实现为嵌套的 Python list\n",
    "\"\"\"\n",
    "\n",
    "\n",
    "class SubtreeIndexError(ValueError):\n",
    "    pass\n",
    "\n",
    "\n",
    "def Tree(data, *subtrees):\n",
    "    return [data].extend(subtrees)\n",
    "\n",
    "\n",
    "def is_empty_Tree(tree):\n",
    "    return tree is None\n",
    "\n",
    "\n",
    "def root(tree):\n",
    "    return tree[0]\n",
    "\n",
    "\n",
    "def subtree(tree, i):\n",
    "    if i < 1 or i > len(tree):\n",
    "        raise SubtreeIndexError\n",
    "    return tree[i + 1]\n",
    "\n",
    "\n",
    "def set_root(tree, data):\n",
    "    tree[0] = data\n",
    "\n",
    "\n",
    "def set_subtree(tree, i, subtree):\n",
    "    if i < 1 or i > len(tree):\n",
    "        raise SubtreeIndexError\n",
    "    tree[i+1] = subtree\n",
    "\n",
    "\n",
    "\n",
    "if __name__ == '__main__':\n",
    "    tree1 = Tree('+', 1, 2, 3)\n",
    "    tree2 = Tree('*', tree1, 6, 8)\n",
    "\n",
    "    print(tree1)\n",
    "    print(tree2)\n"
   ]
  },
  {
   "cell_type": "code",
   "execution_count": null,
   "metadata": {},
   "outputs": [],
   "source": []
  }
 ],
 "metadata": {
  "kernelspec": {
   "display_name": "Python 3",
   "language": "python",
   "name": "python3"
  },
  "language_info": {
   "codemirror_mode": {
    "name": "ipython",
    "version": 3
   },
   "file_extension": ".py",
   "mimetype": "text/x-python",
   "name": "python",
   "nbconvert_exporter": "python",
   "pygments_lexer": "ipython3",
   "version": "3.6.8"
  }
 },
 "nbformat": 4,
 "nbformat_minor": 2
}
