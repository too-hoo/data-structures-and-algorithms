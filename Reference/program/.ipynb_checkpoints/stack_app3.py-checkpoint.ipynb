{
 "cells": [
  {
   "cell_type": "code",
   "execution_count": 1,
   "metadata": {},
   "outputs": [
    {
     "name": "stdout",
     "output_type": "stream",
     "text": [
      "Weight:  6\n",
      "No solution.\n",
      "\n",
      "Weight:  23\n",
      "Item 4: 14\n",
      "Item 6: 9\n",
      "\n",
      "Weight:  40\n",
      "Item 2: 4\n",
      "Item 5: 7\n",
      "Item 8: 29\n",
      "\n",
      "Weight:  57\n",
      "Item 2: 4\n",
      "Item 5: 7\n",
      "Item 7: 17\n",
      "Item 8: 29\n",
      "\n",
      "Weight:  74\n",
      "Item 1: 1\n",
      "Item 2: 4\n",
      "Item 4: 14\n",
      "Item 6: 9\n",
      "Item 7: 17\n",
      "Item 8: 29\n",
      "\n",
      "Weight:  91\n",
      "Item 1: 1\n",
      "Item 2: 4\n",
      "Item 3: 19\n",
      "Item 4: 14\n",
      "Item 5: 7\n",
      "Item 7: 17\n",
      "Item 8: 29\n",
      "\n"
     ]
    }
   ],
   "source": [
    "\"\"\" 栈应用3：背包问题 \"\"\"\n",
    "# from stack_list import *\n",
    "# from queue_list import *\n",
    "\n",
    "########## Functions for Knap ##########\n",
    "\n",
    "weight_list = (1, 4, 19, 14, 7, 9, 17, 29)\n",
    "\n",
    "\n",
    "def knap_rec(weight, wlist, n):\n",
    "    if weight == 0:\n",
    "        return True\n",
    "    if weight < 0 or (weight > 0 and n < 1):\n",
    "        return False\n",
    "    if knap_rec(weight - wlist[n-1], wlist, n-1):\n",
    "        print(\"Item \" + str(n) + \":\", wlist[n-1])\n",
    "        return True\n",
    "    if knap_rec(weight, wlist, n-1):\n",
    "        return True\n",
    "    else:\n",
    "        return False\n",
    "\n",
    "if __name__ == \"__main__\":\n",
    "    for w in range(6, 100, 17):\n",
    "        print(\"Weight: \", w)\n",
    "        ok = knap_rec(w, weight_list, len(weight_list))\n",
    "        if not ok:\n",
    "            print(\"No solution.\")\n",
    "        print(\"\")"
   ]
  },
  {
   "cell_type": "code",
   "execution_count": null,
   "metadata": {},
   "outputs": [],
   "source": []
  }
 ],
 "metadata": {
  "kernelspec": {
   "display_name": "Python 3",
   "language": "python",
   "name": "python3"
  },
  "language_info": {
   "codemirror_mode": {
    "name": "ipython",
    "version": 3
   },
   "file_extension": ".py",
   "mimetype": "text/x-python",
   "name": "python",
   "nbconvert_exporter": "python",
   "pygments_lexer": "ipython3",
   "version": "3.6.8"
  }
 },
 "nbformat": 4,
 "nbformat_minor": 2
}
