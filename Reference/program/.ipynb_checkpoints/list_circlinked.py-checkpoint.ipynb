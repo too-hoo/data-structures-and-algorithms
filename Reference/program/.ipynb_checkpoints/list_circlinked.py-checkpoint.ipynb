{
 "cells": [
  {
   "cell_type": "code",
   "execution_count": 1,
   "metadata": {},
   "outputs": [
    {
     "name": "stdout",
     "output_type": "stream",
     "text": [
      "16\n",
      "20\n",
      "17\n",
      "9\n",
      "12\n",
      "13\n",
      "11\n",
      "9\n",
      "6\n",
      "2\n",
      "29\n",
      "24\n",
      "22\n",
      "30\n",
      "25\n",
      "29\n",
      "18\n",
      "22\n",
      "27\n"
     ]
    }
   ],
   "source": [
    "\"\"\" 循环单链表类 \"\"\"\n",
    "\n",
    "from list_node import LNode, LinkedListUnderflow\n",
    "\n",
    "\n",
    "class LCList:  # class of Circular Linked List\n",
    "    def __init__(self):\n",
    "        self._rear = None\n",
    "        \n",
    "    def is_empty(self):\n",
    "        return self._rear is None\n",
    "    \n",
    "    def prepend(self, elem):  # add element in the front end\n",
    "        p = LNode(elem)\n",
    "        if self._rear is None:\n",
    "            p.next = p  # initiates circle\n",
    "            self._rear = p\n",
    "        else:\n",
    "            p.next = self._rear.next\n",
    "            self._rear.next = p\n",
    "            \n",
    "    def append(self, elem):  # add element in the rear end\n",
    "        self.prepend(elem)\n",
    "        self._rear = self._rear.next\n",
    "        \n",
    "    def pop(self):  # pop out head element\n",
    "        if self._rear is None:\n",
    "            raise LinkedListUnderflow(\"in pop of CLList\")\n",
    "        p = self._rear.next\n",
    "        if self._rear is p:\n",
    "            self._rear = None\n",
    "        else:\n",
    "            self._rear.next = p.next\n",
    "        return p.elem\n",
    "    \n",
    "    def printall(self):\n",
    "        if self.is_empty():\n",
    "            return\n",
    "        p = self._rear.next\n",
    "        while True:\n",
    "            print(p.elem)\n",
    "            if p is self._rear:\n",
    "                break\n",
    "            p = p.next\n",
    "\n",
    "\n",
    "if __name__ == '__main__':\n",
    "    from random import randint\n",
    "\n",
    "    mlist = LCList()\n",
    "    for i in range(10):\n",
    "        mlist.prepend(randint(i, 20))\n",
    "    for i in range(11, 20):\n",
    "        mlist.append(randint(i, 30))\n",
    "    #mlist1.printall()\n",
    "\n",
    "    while not mlist.is_empty():\n",
    "        print(mlist.pop())"
   ]
  },
  {
   "cell_type": "code",
   "execution_count": null,
   "metadata": {},
   "outputs": [],
   "source": []
  }
 ],
 "metadata": {
  "kernelspec": {
   "display_name": "Python 3",
   "language": "python",
   "name": "python3"
  },
  "language_info": {
   "codemirror_mode": {
    "name": "ipython",
    "version": 3
   },
   "file_extension": ".py",
   "mimetype": "text/x-python",
   "name": "python",
   "nbconvert_exporter": "python",
   "pygments_lexer": "ipython3",
   "version": "3.6.8"
  }
 },
 "nbformat": 4,
 "nbformat_minor": 2
}
