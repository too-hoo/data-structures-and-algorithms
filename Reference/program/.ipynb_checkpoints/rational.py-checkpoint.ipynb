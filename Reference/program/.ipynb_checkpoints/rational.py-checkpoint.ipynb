{
 "cells": [
  {
   "cell_type": "code",
   "execution_count": 1,
   "metadata": {},
   "outputs": [
    {
     "name": "stdout",
     "output_type": "stream",
     "text": [
      "37 / 24\n"
     ]
    }
   ],
   "source": [
    "\"\"\" 一个较好的有理数类实现 \"\"\"\n",
    "# Module rational defines a class (a type) Rational, for rational numbers.\n",
    "# More operations (methods) can be added.\n",
    "\n",
    "\n",
    "class Rational:\n",
    "    @staticmethod\n",
    "    def _gcd(m, n):\n",
    "        if n == 0:\n",
    "            m, n = n, m\n",
    "        while m != 0:\n",
    "            m, n = n % m, m\n",
    "        return n\n",
    "\n",
    "    def __init__(self, num, den=1):\n",
    "        if not isinstance(num, int) or not isinstance(den, int):\n",
    "            raise TypeError\n",
    "        if den == 0:\n",
    "            raise ZeroDivisionError\n",
    "        sign = 1\n",
    "        if num < 0:\n",
    "            num, sign = -num, -sign\n",
    "        if den < 0:\n",
    "            den, sign = -den, -sign\n",
    "        g = Rational._gcd(num, den)\n",
    "        # call function gcd defined in this class.\n",
    "        self._num = sign * (num//g)\n",
    "        self._den = den//g\n",
    "\n",
    "    def num(self):\n",
    "        return self._num\n",
    "\n",
    "    def den(self):\n",
    "        return self._den\n",
    "\n",
    "    def __add__(self, another):     # mimic + operator\n",
    "        den = self._den * another.den()\n",
    "        num = (self._num * another.den() +\n",
    "               self._den * another.num())\n",
    "        return Rational(num, den)\n",
    "\n",
    "    def __mul__(self, another):      # mimic * operator\n",
    "        return Rational(self._num * another.num(),\n",
    "                        self._den * another.den())\n",
    "\n",
    "    def __floordiv__(self, another):  # mimic // operator\n",
    "        if another.num() == 0:\n",
    "            raise ZeroDivisionError\n",
    "        return Rational(self._num * another.den(),\n",
    "                        self._den * another.num())\n",
    "\n",
    "    # ... ...\n",
    "    # Other operators can be defined similarly:\n",
    "    # -:__sub__, /:__truediv__, %:__mod__, etc.\n",
    "\n",
    "    def __eq__(self, another):\n",
    "        return self._num * another.den() == self._den * another.num()\n",
    "\n",
    "    def __lt__(self, another):\n",
    "        return self._num * another.den() < self._den * another.num()\n",
    "\n",
    "    # Other comparison operators can be defined similarly:\n",
    "    # !=:__ne__, <=:__le__, >:__gt__, >=:__ge__\n",
    "\n",
    "    def __str__(self):\n",
    "        return str(self._num) + \"/\" + str(self._den)\n",
    "\n",
    "    def print(self):\n",
    "        print(self._num, \"/\", self._den)\n",
    "\n",
    "\n",
    "if __name__ == '__main__':\n",
    "    x = Rational(3, 8)\n",
    "    x = x + Rational(7, 6)\n",
    "    x.print()\n",
    "\n",
    "#    Rational(17, 0)"
   ]
  },
  {
   "cell_type": "code",
   "execution_count": null,
   "metadata": {},
   "outputs": [],
   "source": []
  }
 ],
 "metadata": {
  "kernelspec": {
   "display_name": "Python 3",
   "language": "python",
   "name": "python3"
  },
  "language_info": {
   "codemirror_mode": {
    "name": "ipython",
    "version": 3
   },
   "file_extension": ".py",
   "mimetype": "text/x-python",
   "name": "python",
   "nbconvert_exporter": "python",
   "pygments_lexer": "ipython3",
   "version": "3.6.8"
  }
 },
 "nbformat": 4,
 "nbformat_minor": 2
}
