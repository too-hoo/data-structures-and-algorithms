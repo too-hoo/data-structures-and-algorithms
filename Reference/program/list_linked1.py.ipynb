{
 "cells": [
  {
   "cell_type": "code",
   "execution_count": 1,
   "metadata": {},
   "outputs": [
    {
     "name": "stdout",
     "output_type": "stream",
     "text": [
      "12\n",
      "14\n",
      "16\n",
      "18\n",
      "234\n",
      "9, 8, 7, 6, 5, 4, 3, 2, 1, 0\n"
     ]
    }
   ],
   "source": [
    "\"\"\" 带尾结点引用的单链表类 \"\"\"\n",
    "\n",
    "from list_node import LNode, LinkedListUnderflow\n",
    "from list_linked import LList\n",
    "\n",
    "\n",
    "class LList1(LList):\n",
    "    def __init__(self):\n",
    "        LList.__init__(self)\n",
    "        self._rear = None\n",
    "\n",
    "    # def prepend(self, elem):\n",
    "    #     self._head = LNode(elem, self._head)\n",
    "    #     if self._rear is None:  # empty list\n",
    "    #         self._rear = self._head\n",
    "            \n",
    "    def prepend(self, elem):\n",
    "        if self._head is None:\n",
    "            self._head = LNode(elem, self._head)\n",
    "            self._rear = self._head\n",
    "        else:\n",
    "            self._head = LNode(elem, self._head)\n",
    "\n",
    "    def append(self, elem):\n",
    "        if self._head is None:  # empty list\n",
    "            self._head = LNode(elem, self._head)\n",
    "            self._rear = self._head\n",
    "        else:\n",
    "            self._rear.next = LNode(elem)\n",
    "            self._rear = self._rear.next\n",
    "            \n",
    "    def pop_last(self):\n",
    "        if self._head is None:  # empty list\n",
    "            raise LinkedListUnderflow(\"in pop_last of LList1\")\n",
    "        p = self._head\n",
    "        if p.next is None:  # list with only one element\n",
    "            e = p.elem\n",
    "            self._head = None\n",
    "            self._rear = None\n",
    "            return e\n",
    "        while p.next.next:  # till p.next be last node\n",
    "            p = p.next\n",
    "        e = p.next.elem\n",
    "        p.next = None\n",
    "        self._rear = p\n",
    "        return e\n",
    "\n",
    "\n",
    "if __name__ == '__main__':\n",
    "    mlist1 = LList1()\n",
    "    mlist1.prepend(99)\n",
    "        \n",
    "    for i in range(11, 20):\n",
    "        mlist1.append(i)\n",
    "\n",
    "    for x in mlist1.filter(lambda y: y % 2 == 0):\n",
    "        print(x)\n",
    "\n",
    "    ss = 0\n",
    "    while not mlist1.is_empty():\n",
    "        ss += mlist1.pop()\n",
    "    print(ss)\n",
    "\n",
    "    for i in range(10):\n",
    "        mlist1.prepend(i)\n",
    "\n",
    "    mlist1.printall()"
   ]
  },
  {
   "cell_type": "code",
   "execution_count": null,
   "metadata": {},
   "outputs": [],
   "source": []
  }
 ],
 "metadata": {
  "kernelspec": {
   "display_name": "Python 3",
   "language": "python",
   "name": "python3"
  },
  "language_info": {
   "codemirror_mode": {
    "name": "ipython",
    "version": 3
   },
   "file_extension": ".py",
   "mimetype": "text/x-python",
   "name": "python",
   "nbconvert_exporter": "python",
   "pygments_lexer": "ipython3",
   "version": "3.6.8"
  }
 },
 "nbformat": 4,
 "nbformat_minor": 2
}
