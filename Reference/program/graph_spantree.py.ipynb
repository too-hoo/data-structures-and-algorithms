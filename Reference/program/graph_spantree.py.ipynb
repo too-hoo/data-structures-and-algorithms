{
 "cells": [
  {
   "cell_type": "code",
   "execution_count": 1,
   "metadata": {},
   "outputs": [
    {
     "name": "stdout",
     "output_type": "stream",
     "text": [
      "[((1, 2), 5), ((1, 3), 6), ((4, 5), 7), ((0, 1), 10), ((1, 5), 11)]\n",
      "[((0, 0), 0), ((0, 1), 10), ((1, 2), 5), ((1, 3), 6), ((5, 4), 7), ((1, 5), 11)]\n",
      "[((1, 2), 5), ((1, 3), 6), ((0, 1), 10), ((1, 5), 11), ((3, 4), 18)]\n",
      "[((0, 0), 0), ((0, 1), 10), ((1, 2), 5), ((1, 3), 6), ((3, 4), 18), ((1, 5), 11)]\n"
     ]
    }
   ],
   "source": [
    "\"\"\" 最小生成树的 Kruskal 算法 \n",
    "\"\"\"\n",
    "\n",
    "from prioqueue import PrioQueue  # , PrioQueueError\n",
    "from graph import *\n",
    "\n",
    "\n",
    "def Kruskal(graph):\n",
    "    vnum = graph.vertex_num()\n",
    "    reps = [i for i in range(vnum)]\n",
    "    mst, edges = [], []\n",
    "    for vi in range(vnum):  # put all edges into a list\n",
    "        for v, w in graph.out_edges(vi):\n",
    "            edges.append((w, vi, v))\n",
    "    edges.sort()  # sort, O(n log n) time\n",
    "    for w, vi, vj in edges:\n",
    "        if reps[vi] != reps[vj]:\n",
    "            mst.append(((vi, vj), w))\n",
    "            if len(mst) == vnum-1:\n",
    "                break\n",
    "            rep, orep = reps[vi], reps[vj]\n",
    "            for i in range(vnum):\n",
    "                if reps[i] == orep:\n",
    "                    reps[i] = rep\n",
    "    return mst\n",
    "\n",
    "\n",
    "def Prim(graph):\n",
    "    \"\"\" Assume that graph is a network, a connected undirect\n",
    "graph. This function implements Prim algorithm to build its\n",
    "minimal span tree. A list mst to store the resulting\n",
    "span tree, where each element takes the form ((i, j), w).\n",
    "A representing array reps is used to record the representive\n",
    "vertics of each of the connective parts.\n",
    "\"\"\"\n",
    "    vnum = graph.vertex_num()\n",
    "    mst = [None]*vnum\n",
    "    cands = PrioQueue([(0, 0, 0)])    # record cand-edges (w, vi, wj)\n",
    "    count = 0\n",
    "    while count < vnum and not cands.is_empty():\n",
    "        w, u, v = cands.dequeue()  # take minimal candidate edge\n",
    "        if mst[v]:   # vmin is already in mst\n",
    "            continue\n",
    "        mst[v] = ((u, v), w)    # record new MST edge and vertex\n",
    "        count += 1\n",
    "        for vi, w in graph.out_edges(v):  # for adjacents of vmin\n",
    "            if not mst[vi]:  # when v is not in mst yet\n",
    "                cands.enqueue((w, v, vi))\n",
    "    return mst\n",
    "\n",
    "inf = float(\"inf\")\n",
    "\n",
    "if __name__ == '__main__':\n",
    "\n",
    "    g3 = GraphAL(gmat5, inf)\n",
    "    g4 = GraphAL(gmat6, inf)\n",
    "\n",
    "    spt1 = Kruskal(g3)\n",
    "    print(spt1)\n",
    "\n",
    "    spt2 = Prim(g3)\n",
    "    print(spt2)\n",
    "\n",
    "    spt3 = Kruskal(g4)\n",
    "    print(spt3)\n",
    "\n",
    "    spt4 = Prim(g4)\n",
    "    print(spt4)"
   ]
  },
  {
   "cell_type": "code",
   "execution_count": null,
   "metadata": {},
   "outputs": [],
   "source": []
  }
 ],
 "metadata": {
  "kernelspec": {
   "display_name": "Python 3",
   "language": "python",
   "name": "python3"
  },
  "language_info": {
   "codemirror_mode": {
    "name": "ipython",
    "version": 3
   },
   "file_extension": ".py",
   "mimetype": "text/x-python",
   "name": "python",
   "nbconvert_exporter": "python",
   "pygments_lexer": "ipython3",
   "version": "3.6.8"
  }
 },
 "nbformat": 4,
 "nbformat_minor": 2
}
