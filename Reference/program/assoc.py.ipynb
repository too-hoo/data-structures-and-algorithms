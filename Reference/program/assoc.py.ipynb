{
 "cells": [
  {
   "cell_type": "code",
   "execution_count": 1,
   "metadata": {},
   "outputs": [
    {
     "name": "stdout",
     "output_type": "stream",
     "text": [
      "Assoc(1,2)\n"
     ]
    }
   ],
   "source": [
    "\"\"\" 字典的基本关联类 \n",
    "\"\"\"\n",
    "\n",
    "\n",
    "class Assoc:\n",
    "    def __init__(self, key, value):\n",
    "        self.key = key\n",
    "        self.value = value\n",
    "\n",
    "    def __lt__(self, other):\n",
    "        return self.key < other.key\n",
    "\n",
    "    def __le__(self, other):\n",
    "        return self.key < other.key or self.key == other.key\n",
    "\n",
    "    def __str__(self):\n",
    "        return \"Assoc({0},{1})\".format(self.key, self.value)\n",
    "    \n",
    "if __name__ == '__main__':\n",
    "    a1 = Assoc(1, 2)\n",
    "    print(str(a1))\n",
    "    pass"
   ]
  },
  {
   "cell_type": "code",
   "execution_count": null,
   "metadata": {},
   "outputs": [],
   "source": []
  }
 ],
 "metadata": {
  "kernelspec": {
   "display_name": "Python 3",
   "language": "python",
   "name": "python3"
  },
  "language_info": {
   "codemirror_mode": {
    "name": "ipython",
    "version": 3
   },
   "file_extension": ".py",
   "mimetype": "text/x-python",
   "name": "python",
   "nbconvert_exporter": "python",
   "pygments_lexer": "ipython3",
   "version": "3.6.8"
  }
 },
 "nbformat": 4,
 "nbformat_minor": 2
}
