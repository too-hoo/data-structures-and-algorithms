{
 "cells": [
  {
   "cell_type": "code",
   "execution_count": 1,
   "metadata": {},
   "outputs": [
    {
     "name": "stdout",
     "output_type": "stream",
     "text": [
      "80/75\n"
     ]
    }
   ],
   "source": [
    "# Module rational defines a primitive Rational class (a type).\n",
    "# More operations (methods) can be defined.\n",
    "\n",
    "\n",
    "class Rational0:\n",
    "    def __init__(self, num, den=1):\n",
    "        self.num = num\n",
    "        self.den = den\n",
    "\n",
    "    def plus(self, another):\n",
    "        den = self.den * another.den\n",
    "        num = (self.num * another.den +\n",
    "               self.den * another.num)\n",
    "        return Rational0(num, den)\n",
    "\n",
    "    def print(self):\n",
    "        print(str(self.num)+\"/\"+str(self.den))\n",
    "\n",
    "\n",
    "if __name__ == '__main__':\n",
    "    r1 = Rational0(3,5)\n",
    "    r2 = r1.plus(Rational0(7,15))\n",
    "    r2.print()"
   ]
  },
  {
   "cell_type": "code",
   "execution_count": null,
   "metadata": {},
   "outputs": [],
   "source": []
  }
 ],
 "metadata": {
  "kernelspec": {
   "display_name": "Python 3",
   "language": "python",
   "name": "python3"
  },
  "language_info": {
   "codemirror_mode": {
    "name": "ipython",
    "version": 3
   },
   "file_extension": ".py",
   "mimetype": "text/x-python",
   "name": "python",
   "nbconvert_exporter": "python",
   "pygments_lexer": "ipython3",
   "version": "3.6.8"
  }
 },
 "nbformat": 4,
 "nbformat_minor": 2
}
