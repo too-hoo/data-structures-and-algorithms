{
 "cells": [
  {
   "cell_type": "code",
   "execution_count": 1,
   "metadata": {},
   "outputs": [
    {
     "name": "stdout",
     "output_type": "stream",
     "text": [
      "[100, 64, 46, 36, 25, 14, 5, 3, 1]\n"
     ]
    }
   ],
   "source": [
    "def findbiggest(arr):\n",
    "    '''查找出最大的值'''\n",
    "    biggest = arr[0]\n",
    "    biggest_index = 0\n",
    "    for i in range(1, len(arr)):\n",
    "        if arr[i] > biggest:\n",
    "            biggest = arr[i]\n",
    "            biggest_index = i\n",
    "    return biggest_index\n",
    "\n",
    "\n",
    "def selectsort(arr):\n",
    "    newarr = []\n",
    "    for i in range(len(arr)):\n",
    "        big = findbiggest(arr)\n",
    "        newarr.append(arr.pop(big))\n",
    "\n",
    "    return newarr\n",
    "\n",
    "\n",
    "mylist = [1, 3, 5, 14, 25, 36, 46, 64, 100]\n",
    "print(selectsort(mylist))"
   ]
  },
  {
   "cell_type": "code",
   "execution_count": null,
   "metadata": {},
   "outputs": [],
   "source": []
  }
 ],
 "metadata": {
  "kernelspec": {
   "display_name": "Python 3",
   "language": "python",
   "name": "python3"
  },
  "language_info": {
   "codemirror_mode": {
    "name": "ipython",
    "version": 3
   },
   "file_extension": ".py",
   "mimetype": "text/x-python",
   "name": "python",
   "nbconvert_exporter": "python",
   "pygments_lexer": "ipython3",
   "version": "3.6.8"
  }
 },
 "nbformat": 4,
 "nbformat_minor": 2
}
