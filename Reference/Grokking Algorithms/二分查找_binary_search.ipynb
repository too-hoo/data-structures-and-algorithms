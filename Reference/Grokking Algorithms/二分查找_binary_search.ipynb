{
 "cells": [
  {
   "cell_type": "code",
   "execution_count": 2,
   "metadata": {},
   "outputs": [
    {
     "name": "stdout",
     "output_type": "stream",
     "text": [
      "6\n",
      "1\n",
      "4\n"
     ]
    }
   ],
   "source": [
    "def binary_search(mylist, item):\n",
    "    low = 0\n",
    "    high = len(mylist) - 1\n",
    "\n",
    "    while low <= high:\n",
    "        mid = (low + high) // 2\n",
    "        guess = mylist[mid]\n",
    "        if guess == item:\n",
    "            return mid\n",
    "        elif guess < item:\n",
    "            low = mid + 1\n",
    "        else:\n",
    "            high = mid - 1\n",
    "    return None\n",
    "\n",
    "\n",
    "my_list = [1, 3, 5, 14, 25, 36, 46, 64, 100]\n",
    "\n",
    "# 返回的列表的索引是从0开始的\n",
    "print(binary_search(my_list, 46))\n",
    "print(binary_search(my_list, 3))\n",
    "print(binary_search(my_list, 25))"
   ]
  },
  {
   "cell_type": "code",
   "execution_count": null,
   "metadata": {},
   "outputs": [],
   "source": []
  }
 ],
 "metadata": {
  "kernelspec": {
   "display_name": "Python 3",
   "language": "python",
   "name": "python3"
  },
  "language_info": {
   "codemirror_mode": {
    "name": "ipython",
    "version": 3
   },
   "file_extension": ".py",
   "mimetype": "text/x-python",
   "name": "python",
   "nbconvert_exporter": "python",
   "pygments_lexer": "ipython3",
   "version": "3.6.8"
  }
 },
 "nbformat": 4,
 "nbformat_minor": 2
}
