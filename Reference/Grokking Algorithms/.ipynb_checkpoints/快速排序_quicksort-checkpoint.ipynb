{
 "cells": [
  {
   "cell_type": "code",
   "execution_count": 1,
   "metadata": {},
   "outputs": [
    {
     "name": "stdout",
     "output_type": "stream",
     "text": [
      "[2, 4, 5, 6, 23, 42, 343, 343, 655, 754, 4545]\n"
     ]
    }
   ],
   "source": [
    "def quicksort(mylist):\n",
    "    if len(mylist) < 2:\n",
    "        return mylist\n",
    "    else:\n",
    "        pivot = mylist[0]\n",
    "        less = [i for i in mylist[1:] if i <= pivot]\n",
    "        greater = [i for i in mylist[1:] if i > pivot]\n",
    "        return quicksort(less) + [pivot] + quicksort(greater)\n",
    "\n",
    "\n",
    "print(quicksort([2, 5, 6, 4,   23, 4545, 343, 655, 343, 42, 754]))"
   ]
  },
  {
   "cell_type": "code",
   "execution_count": null,
   "metadata": {},
   "outputs": [],
   "source": []
  }
 ],
 "metadata": {
  "kernelspec": {
   "display_name": "Python 3",
   "language": "python",
   "name": "python3"
  },
  "language_info": {
   "codemirror_mode": {
    "name": "ipython",
    "version": 3
   },
   "file_extension": ".py",
   "mimetype": "text/x-python",
   "name": "python",
   "nbconvert_exporter": "python",
   "pygments_lexer": "ipython3",
   "version": "3.6.8"
  }
 },
 "nbformat": 4,
 "nbformat_minor": 2
}
